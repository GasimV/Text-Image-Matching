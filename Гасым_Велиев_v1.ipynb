{
 "cells": [
  {
   "cell_type": "markdown",
   "metadata": {},
   "source": [
    "<img src=\"http://s3.amazonaws.com/pix.iemoji.com/images/emoji/apple/ios-12/256/waving-hand.png\" align=left width=44, heigth=44>\n",
    "<div class=\"alert alert-info\">\n",
    "<b> Комментарий ревьюера</b>\n",
    "\n",
    "\n",
    "Привет, Гасым! Давай знакомиться! Меня зовут Дмитрий Махортов, и я буду проверять твой проект. Сразу предлагаю общение на «ты» 🙂, но если тебе это не комфортно, то дай знать, и мы перейдем на «вы». \n",
    "\n",
    "\n",
    "Моя основная цель — не указать на совершенные тобою ошибки, а поделиться своим опытом и помочь тебе погрузиться в увлекательный мир работы с данными и вырасти в крепкого профи. Это отдаленная цель. А ближайшая - сделать твою работу еще лучше )).\n",
    "   \n",
    "    \n",
    "Все ключевые этапы в работе выполнены, и я вижу что с проектом ты справшяешься. Есть моменты, которые нужно доработать, но я уверен, у тебя все получится.\n",
    "        \n",
    "Расскажу как обычно проходит проверка:    \n",
    "Бывают моменты, которые требуют пристального внимания. Комментарии по ним выделены <span style='background-color:#F7B3A4'> красным цветом </span> и обозначены значком 🛑. После их доработки проект будет принят.  🙂\n",
    " \n",
    "<span style='background-color:#B7EBA7'> Зеленым цветом </span> и значком ✅ отмечены удачные и элегантные решения, на которые можно опираться в будущих проектах. Или советы «со звездочкой», которые помогут тебе в будущем.\n",
    "\n",
    "<span style='background-color:#F9EDA6'>Жёлтым цветом </span> и значком ⚠️ выделено то, что в следующий раз можно сделать по-другому. Ты можешь учесть эти комментарии при выполнении будущих заданий или доработать проект сейчас (однако это не обязательно).\n",
    "\n",
    "Давай работать над проектом в диалоге: **если ты что-то меняешь в проекте по моим рекомендациям — пиши об этом**. Выбери для своих комментариев какой-то заметный цвет, так мне будет легче отследить изменения. Пожалуйста, **не перемещай, не изменяй и не удаляй мои комментарии**. Всё это поможет выполнить повторную проверку твоего проекта оперативнее. \n",
    "</div>"
   ]
  },
  {
   "cell_type": "markdown",
   "metadata": {},
   "source": [
    "<div class=\"alert alert-info\">\n",
    "<b> Гасым </b>\n",
    "\n",
    "\n",
    "Привет, Дмитрий! Рад знакомству! Спасибо большое за твои детальные комментарии к каждой секции проекта, они очень ценны и помогли разобраться в непонятных для меня моментах и улучшить мою работу! Благодарю.\n",
    "\n",
    "</div>"
   ]
  },
  {
   "cell_type": "code",
   "execution_count": null,
   "metadata": {
    "colab": {
     "base_uri": "https://localhost:8080/"
    },
    "id": "dj54_x2eJVuF",
    "outputId": "97dfc08c-ca05-48cc-8377-ca728fe9c167"
   },
   "outputs": [],
   "source": [
    "!pip install -q transformers"
   ]
  },
  {
   "cell_type": "markdown",
   "metadata": {
    "id": "34b2b15b"
   },
   "source": [
    "<img src=\"https://upload.wikimedia.org/wikipedia/commons/b/ba/Warning_sign_4.0.png\" align=left width=44, heigth=33>\n",
    "<div class=\"alert alert-warning\">\n",
    "Лично меня очень утомляют простыни логов после установки библиотек. Я их все равно никто не читает. Можно добавить флаг -q  будет гораздо аккуратнее.\n",
    "    \n",
    "    !pip install -q transformers \n",
    "</div>"
   ]
  },
  {
   "cell_type": "markdown",
   "metadata": {},
   "source": [
    "<div class=\"alert alert-info\">\n",
    "<b> Гасым </b>\n",
    "\n",
    "\n",
    "Верно подмечено, меня также это утомляло, но не знал что так можно - теперь знаю, спасибо! \n",
    "\n",
    "</div>"
   ]
  },
  {
   "cell_type": "code",
   "execution_count": null,
   "metadata": {
    "id": "q5gA_kgoeIk3"
   },
   "outputs": [],
   "source": [
    "import pandas as pd\n",
    "import numpy as np\n",
    "import random\n",
    "import matplotlib.pyplot as plt\n",
    "import torch\n",
    "import torch.nn as nn\n",
    "import torch.nn.functional as F\n",
    "import torchvision.models as models\n",
    "import torchvision.transforms as transforms\n",
    "from torch import nn\n",
    "from torchvision.models import ResNet50_Weights\n",
    "from PIL import Image\n",
    "from torchvision.models import resnet50\n",
    "from transformers import BertTokenizer, BertModel\n",
    "import os\n",
    "import torch.optim as optim\n",
    "from google.colab import drive\n",
    "from sklearn.model_selection import GroupShuffleSplit\n",
    "from sklearn.linear_model import LinearRegression\n",
    "from sklearn.dummy import DummyRegressor\n",
    "from sklearn.metrics import mean_squared_error, r2_score"
   ]
  },
  {
   "cell_type": "code",
   "execution_count": null,
   "metadata": {
    "colab": {
     "base_uri": "https://localhost:8080/"
    },
    "id": "JjJTF1SVKLFD",
    "outputId": "dfecdb0e-26ff-4551-ca86-6a1f80d4e47a"
   },
   "outputs": [
    {
     "name": "stdout",
     "output_type": "stream",
     "text": [
      "Mounted at /content/drive\n"
     ]
    }
   ],
   "source": [
    "# Определим константу для пути к данным. Замените фактическим путем к вашей директории данных.\n",
    "DATA_PATH = '/content/drive/My Drive'\n",
    "\n",
    "# Подключимся к Google Drive - можно закомментировать, если запускаете локально!\n",
    "drive.mount('/content/drive')"
   ]
  },
  {
   "cell_type": "markdown",
   "metadata": {},
   "source": [
    "<img src=\"https://upload.wikimedia.org/wikipedia/commons/thumb/8/81/Stop_sign.png/240px-Stop_sign.png\" align=left width=35, heigth=35>\n",
    "<div class=\"alert alert-danger\">\n",
    "Очень \"больная тема\" - это загрузка данных и использование путей.Очевидно, что на моей машине (и скорее всего машине любого другого пользователя) пути к данным будут другие. И это \"рабочая ситуация для большинства проектов. Решается она следующим образом:\n",
    " \n",
    "    \n",
    "  - Путь к директории с данными  должен быть задан в константе, в самом начале работы. Тогда ревьюеру (или любому другому пользователю твоего ноутбука, даже тебе самому, если нужно будет провести презентацию руководителю на другом компьютере) нужно будет изменить только этот путь.\n",
    "  - Все остальные пути внутри ноутбука должны быть созданы с исопользованием этой константы, а не заданы жестко (есть сленговое определение \"хардкод\").  Более  того, настоятельно рекомендую для создания сложных путей вместо простой конкатерации строк с исползованием '/' использовать os.path.join(), тогда код будет одинаково надежно работать и в среде Windows и Linux (MacOS).\n",
    "   \n",
    "Чтобы запустить твой код при проверке я был вынужден руками менять код по всему ноутбуку. Прошу тебя внести изменения так, чтобы путь к данным нужно было изменять всего один раз.\n",
    "\n",
    "\n",
    "А вот это образец универсального кода для загрузки данных    \n",
    "    \n",
    "    DATA_PATH = твой путь    \n",
    "    \n",
    "    df_train = pd.read_csv(os.path.join(DATA_PATH, 'train_dataset.csv'))\n",
    "    ....\n",
    "    \n",
    "    \n",
    "</div>"
   ]
  },
  {
   "cell_type": "code",
   "execution_count": null,
   "metadata": {
    "id": "FpE8bi9tHJkd"
   },
   "outputs": [],
   "source": [
    "# Создадим полные пути для экспертных и массовых аннотаций, используя DATA_PATH.\n",
    "expert_annotations_path = os.path.join(DATA_PATH, 'ExpertAnnotations.tsv')\n",
    "crowd_annotations_path = os.path.join(DATA_PATH, 'CrowdAnnotations.tsv')\n",
    "\n",
    "# Загрузим датафреймы, используя полные пути\n",
    "expert_annotations_df = pd.read_csv(expert_annotations_path, sep='\\t', header=None)\n",
    "crowd_annotations_df = pd.read_csv(crowd_annotations_path, sep='\\t', header=None)"
   ]
  },
  {
   "cell_type": "markdown",
   "metadata": {},
   "source": [
    "<div class=\"alert alert-info\">\n",
    "<b> Гасым </b>\n",
    "\n",
    "\n",
    "Благодарю за полезный совет! Сделано. \n",
    "\n",
    "</div>"
   ]
  },
  {
   "cell_type": "markdown",
   "metadata": {
    "id": "DuWzgb_LCS7B"
   },
   "source": [
    "***Переименуем безымянные названия столбцов чтобы в дальнейшем было удобно по ним обьединить нужные столбцы в единый обучающий датасет.***"
   ]
  },
  {
   "cell_type": "code",
   "execution_count": null,
   "metadata": {
    "colab": {
     "base_uri": "https://localhost:8080/"
    },
    "id": "MM5NY3E2CFrA",
    "outputId": "829dc3c9-8178-41e9-ff5a-98c237f99641"
   },
   "outputs": [],
   "source": [
    "# Именование столбцов файла CrowdAnnotations.tsv согласно приведенному описанию.\n",
    "crowd_annotations_df.columns = [\n",
    "    'image',\n",
    "    'description_id',\n",
    "    'percentage_of_matches',\n",
    "    'number_of_confirmations',\n",
    "    'number_of_rejections'\n",
    "]\n",
    "\n",
    "# Именование столбцов файла ExpertAnnotations.tsv согласно приведенному описанию.\n",
    "expert_annotations_df.columns = [\n",
    "    'image',\n",
    "    'description_id',\n",
    "    'expert_1_rating',\n",
    "    'expert_2_rating',\n",
    "    'expert_3_rating'\n",
    "]\n",
    "\n",
    "display(expert_annotations_df.head(10))\n",
    "print()\n",
    "display(crowd_annotations_df.head(10))"
   ]
  },
  {
   "cell_type": "markdown",
   "metadata": {},
   "source": [
    "<img src=\"https://upload.wikimedia.org/wikipedia/commons/b/ba/Warning_sign_4.0.png\" align=left width=44, heigth=33>\n",
    "<div class=\"alert alert-warning\">\n",
    "В наименованиях столбцов лучше убрать пробелы (можно заменить их на подчерки, а также использовать названия соответствующие snake_case)</div>"
   ]
  },
  {
   "cell_type": "markdown",
   "metadata": {
    "id": "17bb86e1"
   },
   "source": [
    "<img src=\"https://upload.wikimedia.org/wikipedia/commons/thumb/8/81/Stop_sign.png/240px-Stop_sign.png\" align=left width=35, heigth=35>\n",
    "<div class=\"alert alert-danger\">\n",
    "Я понимаю, что привычку \"печатать\" датафреймы с помощью print() прививает тренажер, но пожалуйста, не тяни это в ноутбук. Здесь лучше использовать display, вывод с его помощью выглядит гораздо аккуратнее.\n",
    "    \n",
    "Насколько я помню эту ошибку высвечивают еще в самом первом проекте, поэтому крайне обидно видеть её перед финальным проектом, только поэтому я подсвечиваю её красным. И конечно же прошу тебя исправить её во всем проекте,а не только в одной ячейке.    \n",
    "</div>\n"
   ]
  },
  {
   "cell_type": "markdown",
   "metadata": {},
   "source": [
    "<div class=\"alert alert-info\">\n",
    "<b> Гасым </b>\n",
    "\n",
    "\n",
    "Дмитрий, благодарю за еще один полезный совет! К сожалению ни разу, ранее в проектах, мне не указывали на эту особенность и я впервые узнал о красивом выводе с помощью метода display(). Спасибо! \n",
    "\n",
    "</div>"
   ]
  },
  {
   "cell_type": "code",
   "execution_count": null,
   "metadata": {
    "colab": {
     "base_uri": "https://localhost:8080/"
    },
    "id": "1s5NAoDDDzuy",
    "outputId": "7580f95f-6221-4c6a-e066-9b9567327c26"
   },
   "outputs": [],
   "source": [
    "expert_annotations_df.info()\n",
    "print()\n",
    "crowd_annotations_df.info()"
   ]
  },
  {
   "cell_type": "markdown",
   "metadata": {},
   "source": [
    "<img src=\"https://upload.wikimedia.org/wikipedia/commons/b/ba/Warning_sign_4.0.png\" align=left width=44, heigth=33>\n",
    "<div class=\"alert alert-warning\">\n",
    "А вот оборачивать результат работы метода  .info() в функцию print() или display() это лишнее. Метод  info() и сам напечатает тебе нужную информацию. А вот через print()/display() ты выводишь только то,что данный метод возвращает - т.е. None\n",
    "</div>"
   ]
  },
  {
   "cell_type": "markdown",
   "metadata": {},
   "source": [
    "<div class=\"alert alert-info\">\n",
    "<b> Гасым </b>\n",
    "\n",
    "\n",
    "Сделано! \n",
    "\n",
    "</div>"
   ]
  },
  {
   "cell_type": "code",
   "execution_count": null,
   "metadata": {
    "colab": {
     "base_uri": "https://localhost:8080/"
    },
    "id": "rRs1JN9ANNfS",
    "outputId": "49ba7c7d-b9f2-4a00-a460-0cfb87848ef5"
   },
   "outputs": [],
   "source": [
    "# Нам необходимо соответствующим образом подготовить данные.\n",
    "# Мы преобразуем рейтинги экспертов в шкалу от 0 до 1, чтобы соответствовать шкале процента краудсорса.\n",
    "\n",
    "# Нормализуем экспертные оценки по шкале 0-1\n",
    "expert_annotations_df['Normalized Expert 1'] = (expert_annotations_df['expert_1_rating'] - 1) / 3\n",
    "expert_annotations_df['Normalized Expert 2'] = (expert_annotations_df['expert_2_rating'] - 1) / 3\n",
    "expert_annotations_df['Normalized Expert 3'] = (expert_annotations_df['expert_3_rating'] - 1) / 3\n",
    "\n",
    "# Рассчитаем средний экспертный рейтинг\n",
    "expert_annotations_df['mean_expert_rating'] = expert_annotations_df[\n",
    "    ['Normalized Expert 1', 'Normalized Expert 2', 'Normalized Expert 3']].mean(axis=1)"
   ]
  },
  {
   "cell_type": "markdown",
   "metadata": {},
   "source": [
    "<img src=\"https://upload.wikimedia.org/wikipedia/commons/b/ba/Warning_sign_4.0.png\" align=left width=44, heigth=33>\n",
    "<div class=\"alert alert-warning\">\n",
    "Чтобы привести к шкале 0-1 я бы посоветовал использовать линейное преобразование \"минус 1 разделить на 3\". Если использовать деление на 4, то минимальное значение будет 0,25\n",
    "</div>"
   ]
  },
  {
   "cell_type": "markdown",
   "metadata": {},
   "source": [
    "<div class=\"alert alert-info\">\n",
    "<b> Гасым </b>\n",
    "\n",
    "\n",
    "Сделано! \n",
    "\n",
    "</div>"
   ]
  },
  {
   "cell_type": "markdown",
   "metadata": {},
   "source": [
    "<img src=\"https://upload.wikimedia.org/wikipedia/commons/thumb/8/81/Stop_sign.png/240px-Stop_sign.png\" align=left width=35, heigth=35>\n",
    "<div class=\"alert alert-danger\">\n",
    "   \n",
    "    \n",
    "В этом проекте есть несколько возможных стратегий работы с обучающими и краудсорс оценками,  вот эти стратегии с плюсами и минусами:\n",
    "   \n",
    "    \n",
    " - использовать соединение через outer, в этом случае, при корректной обработке пропусков мы можем получить более 50К размеченых пар. К плюсам данного подхода можно отнести большое количество данных. Минус - в основном это будут данные, размеченные краудсорсерами, а там качество раметки ниже.\n",
    " - использовать только экспертные оценки. плюс - высокое качество данных (разметка имеет шкалу). Минус - данных меньше.  Поясню по поводу качества разметки на примере: если на изображении одна собака, а в описании \"две собаки бегут по берегу\", то эксперты поставять соответствие 0,6-0,7 (переводя в шкалу 0-1), а краудсорсеры поставят 0.  Но на экспертных оценках модель хотя-бы научится находить собак, а на краудсор оценках ничему не начится.\n",
    "    \n",
    " - использование соединения через left.  Данный подход очевидно проигрывает второму варианту: данных столько же, нужно дополнительно возиться с объединением, но качество разметки снижается.. Но это соответсвует предложениям авторов проекта, поэтому такой подход имеет право на жизнь\n",
    "    \n",
    " - объединение через inner. Тут все плохо - и данных ОЧЕНЬ мало (в два раза меньше, чем использовать только экспертные оценки) и качество у них \"подпорчено\". И навыков по обработке пропусков не получаем.....\n",
    "    \n",
    "Сейчас ты соединил экспертные и краудсорс оценки, через1 `inner`, и мы просто потеряли половину данных, не получив ничего в замен (точнее только ухудшив наши оценки).\n",
    "    \n",
    "Пожалуйста используй любую другую стратегию, кроме внутреннего соединения. Слишком мало данных при этом получается.    \n",
    "    \n",
    "\n",
    "\n",
    "</div>"
   ]
  },
  {
   "cell_type": "markdown",
   "metadata": {},
   "source": [
    "<div class=\"alert alert-info\">\n",
    "<b> Гасым </b>\n",
    "\n",
    "\n",
    "Спасибо что указал на этот критически важный момент. Выбрал первую стратегию с outer соединением. Сделано! \n",
    "\n",
    "</div>"
   ]
  },
  {
   "cell_type": "code",
   "execution_count": null,
   "metadata": {
    "colab": {
     "base_uri": "https://localhost:8080/",
     "height": 241
    },
    "id": "wnXKa5ylNBz5",
    "outputId": "de7cc052-94b2-4245-d436-82606692ef28"
   },
   "outputs": [],
   "source": [
    "# Присвоим веса экспертным и краудсорсинговым аннотациям.\n",
    "expert_weight = 0.6\n",
    "crowd_weight = 0.4\n",
    "\n",
    "# Выполнить внешнее соединение (outer merge)\n",
    "merged_annotations_outer = pd.merge(\n",
    "    crowd_annotations_df,\n",
    "    expert_annotations_df,\n",
    "    how='outer',\n",
    "    on=['image', 'description_id']\n",
    ")\n",
    "\n",
    "# Расчет медианы краудсорса\n",
    "median_crowd_percentage = merged_annotations_outer['percentage_of_matches'].median()\n",
    "# Расчет медианы экспертов\n",
    "median_expert_rating = merged_annotations_outer['mean_expert_rating'].median()\n",
    "\n",
    "# Заполним пропущенные значения медианой\n",
    "merged_annotations_outer['normalized_crowd_percentage'] = merged_annotations_outer[\n",
    "    'percentage_of_matches'].fillna(median_crowd_percentage)\n",
    "merged_annotations_outer['mean_expert_rating'] = merged_annotations_outer[\n",
    "    'mean_expert_rating'].fillna(median_expert_rating)\n",
    "\n",
    "# Рассчитаем взвешенный комбинированный балл\n",
    "merged_annotations_outer['weighted_combined_score'] = (\n",
    "    (merged_annotations_outer['mean_expert_rating'] * expert_weight) +\n",
    "    (merged_annotations_outer['normalized_crowd_percentage'] * crowd_weight)\n",
    ")\n",
    "\n",
    "# Выберем только необходимые столбцы и назначим их датафрейму annotations_df.\n",
    "annotations_df = merged_annotations_outer[['image', 'description_id', 'weighted_combined_score']]\n",
    "\n",
    "# Отобразим первые несколько строк annotations_df для проверки.\n",
    "annotations_df.head()"
   ]
  },
  {
   "cell_type": "markdown",
   "metadata": {},
   "source": [
    "<img src=\"https://upload.wikimedia.org/wikipedia/commons/b/ba/Warning_sign_4.0.png\" align=left width=44, heigth=33>\n",
    "<div class=\"alert alert-warning\">\n",
    "Старайся не делать такие длинные строки. Стандарт PEP8 регулирует длину строки 79 символов. Придерживаться такого очень сложно, но лучше хотя-бы вмещать в экран, чтобы не приходилось использовать scroll.\n",
    "    \n",
    "    \n",
    "А еще  если сомневаешься, как отформатировать правильно - всегда можно найти какой-нибудь оналйн-форматтер, например этот\n",
    "    \n",
    "  https://extendsclass.com/python-formatter.html\n",
    "    \n",
    "    \n",
    "В качестве дополнительного развития могу порекомендоваь книгу \"PYTHON  чистый код для продолжающих\", Эл Свейгарт    \n",
    "    \n",
    "   \n",
    "    \n",
    "    \n",
    "</div>"
   ]
  },
  {
   "cell_type": "markdown",
   "metadata": {},
   "source": [
    "<div class=\"alert alert-info\">\n",
    "<b> Гасым </b>\n",
    "\n",
    "\n",
    "Принято! \n",
    "\n",
    "</div>"
   ]
  },
  {
   "cell_type": "code",
   "execution_count": null,
   "metadata": {
    "colab": {
     "base_uri": "https://localhost:8080/"
    },
    "id": "2nVC8wWzEuiN",
    "outputId": "77f859f7-57b2-4167-9d03-22ca26e42a74"
   },
   "outputs": [],
   "source": [
    "annotations_df.info()"
   ]
  },
  {
   "cell_type": "code",
   "execution_count": null,
   "metadata": {
    "colab": {
     "base_uri": "https://localhost:8080/"
    },
    "id": "GtaHe3ugQc5c",
    "outputId": "1d7da89d-9985-4838-c104-a154c15997fa"
   },
   "outputs": [
    {
     "data": {
      "text/plain": [
       "(1000, 1000, 1000, 977, 1000, 977)"
      ]
     },
     "execution_count": 12,
     "metadata": {},
     "output_type": "execute_result"
    }
   ],
   "source": [
    "# Чтобы понять сокращение количества записей, мы проверим охват и согласованность \n",
    "# 'image' и 'description_id' как в датафрейме краудсорса, так и в экспертных аннотациях.\n",
    "\n",
    "# Количество уникальных 'image' и 'description_id'  в обоих наборах данных\n",
    "unique_crowd_images = crowd_annotations_df['image'].nunique()\n",
    "unique_expert_images = expert_annotations_df['image'].nunique()\n",
    "unique_crowd_descriptions = crowd_annotations_df['description_id'].nunique()\n",
    "unique_expert_descriptions = expert_annotations_df['description_id'].nunique()\n",
    "\n",
    "# Проверка любых расхождений в форматировании или проблем с сопоставлением\n",
    "# Мы посмотрим на пересечения наборов уникальных идентификаторов, чтобы увидеть, \n",
    "# сколько из них являются общими.\n",
    "shared_image_files = set(\n",
    "    crowd_annotations_df['image']).intersection(set(expert_annotations_df['image']))\n",
    "shared_description_ids = set(\n",
    "    crowd_annotations_df['description_id']).intersection(set(expert_annotations_df['description_id']))\n",
    "\n",
    "# Подсчитаем количество общих идентификаторов\n",
    "num_shared_image_files = len(shared_image_files)\n",
    "num_shared_description_ids = len(shared_description_ids)\n",
    "\n",
    "print(unique_crowd_images, unique_expert_images, unique_crowd_descriptions, \n",
    "      unique_expert_descriptions, num_shared_image_files, num_shared_description_ids)"
   ]
  },
  {
   "cell_type": "code",
   "execution_count": null,
   "metadata": {
    "colab": {
     "base_uri": "https://localhost:8080/",
     "height": 663
    },
    "id": "5PyMm3XKQc8A",
    "outputId": "3d734832-3759-4d08-b0b7-427d0e4ed9b1"
   },
   "outputs": [],
   "source": [
    "# 1. Распределение взвешенного комбинированного балла\n",
    "score_description = annotations_df['weighted_combined_score'].describe()\n",
    "score_histogram = annotations_df['weighted_combined_score'].hist()\n",
    "plt.title('Distribution of Weighted Combined Scores')\n",
    "plt.xlabel('Weighted Combined Score')\n",
    "plt.ylabel('Frequency')\n",
    "plt.grid(False)\n",
    "plt.show()\n",
    "\n",
    "# 2. Разнообразие изображений\n",
    "unique_images = annotations_df['image'].nunique()\n",
    "\n",
    "# 3. Разнообразие описаний\n",
    "unique_descriptions = annotations_df['description_id'].nunique()\n",
    "\n",
    "score_description, unique_images, unique_descriptions"
   ]
  },
  {
   "cell_type": "markdown",
   "metadata": {
    "id": "-qmherUKe4G4"
   },
   "source": [
    "На представленном графике показаны результаты процесса анализа данных, включая распределение «взвешенных комбинированных оценок» и количество уникальных имен файлов изображений и идентификаторов описаний по двум наборам данных (аннотации, полученные из краудсорсинга, и экспертные аннотации). Вот интерпретация отображаемых результатов:\n",
    "\n",
    "### Распределение взвешенных комбинированных баллов\n",
    "Гистограмма иллюстрирует распределение «взвешенных комбинированных оценок», которые являются показателем, полученным как на основе краудсорсинговых, так и экспертных оценок. Вывод метода `.describe()` предоставляет сводную статистику этих оценок:\n",
    "- **count**: В наборе данных 51.323 записи, что указывает на значительный объем данных для анализа и обучения модели.\n",
    "- **Среднее**: средний балл составляет примерно 0.099.\n",
    "- **Стандартное отклонение (стандартное)**: стандартное отклонение оценок составляет примерно 0.112, что указывает на умеренную вариабельность оценок.\n",
    "- **Минимум (мин)**: Минимальный балл равен 0, что указывает на то, что существуют пары изображений и описаний, которые полностью не соответствуют согласно оценкам.\n",
    "- **25-й процентиль**: 25 % оценок ниже примерно 0.067.\n",
    "- **50-й процентиль (медиана)**: средний балл составляет 0.067.\n",
    "- **75-й процентиль**: 75 % оценок ниже примерно 0.067. \n",
    "- **25-й, 50-й (медиана) и 75-й процентили равны примерно 0,067**. Такая однородность по квартилям указывает на концентрацию баллов вокруг этого значения. Согласованность этих значений процентилей предполагает, что значительная часть набора данных имеет одинаковый уровень соответствия между изображениями и описаниями в соответствии с системой взвешенной оценки.\n",
    "- **Максимум (макс.)**: Максимальный балл равен 1, что показывает, что некоторые пары «изображение-описание» идеально совпадают в соответствии с совокупными оценками толпы и экспертов.\n",
    "\n",
    "**Анализ гистограммы и последствия для моделирования**\n",
    "\n",
    "- ***Чувствительность модели***: модель должна быть достаточно чувствительной, чтобы различать различные степени соответствия, тем более что большая часть данных сосредоточена вокруг медианного значения.\n",
    "- ***Обработка асимметрии***: Правильная асимметрия данных может повлиять на способность модели точно прогнозировать более высокие оценки. При рассмотрении таких случаев может потребоваться особое внимание.\n",
    "- ***Представление данных***: гистограмма показывает, что данные предоставляют хороший диапазон сценариев: от отсутствия совпадения до идеального совпадения, что полезно для обучения надежной модели.\n",
    "\n",
    "В целом гистограмма указывает на разумное распределение оценок со значительной концентрацией вокруг медианы, подходящее для обучения и оценки модели, целью которой является сопоставление изображений с описаниями.\n",
    "\n",
    "### Анализ идентификатора изображения и описания\n",
    "- **Уникальные изображения толпы**: 1000 уникальных имен файлов изображений в наборе данных, полученном из краудсорсинга.\n",
    "- **Уникальные экспертные изображения**: 1000 уникальных имен файлов изображений в наборе экспертных данных.\n",
    "- **Уникальные описания толпы**: 1000 уникальных идентификаторов описаний в наборе краудсорсинговых данных.\n",
    "- **Уникальные описания экспертов**: 977 уникальных идентификаторов описаний в наборе экспертных данных.\n",
    "- **Общие файлы изображений**: все 1000 имен файлов изображений используются совместно краудсорсинговыми и экспертными наборами данных.\n",
    "- **Общие идентификаторы описаний**: в двух наборах данных имеется 977 общих идентификаторов описаний.\n",
    "\n",
    "### Интерпретация:\n",
    "- **Согласованность между наборами данных**. В именах файлов изображений между краудсорсинговыми и экспертными наборами данных наблюдается высокий уровень согласованности, при этом все файлы изображений присутствуют в обоих. Однако существует небольшое расхождение в идентификаторах описаний: в наборе краудсорсинговых данных присутствует 23 уникальных описания, которых нет в наборе экспертных данных.\n",
    "- **Описательная статистика баллов**: взвешенные комбинированные баллы смещены в сторону нижнего предела шкалы, при этом медиана ниже среднего значения. Это указывает на то, что больше аннотаций имеют оценку ниже среднего.\n",
    "- **Последствия для дальнейшего анализа**: наличие двух пиков в распределении баллов требует дальнейшего изучения. Возможно, было бы полезно понять характеристики аннотаций, получивших высокие и низкие оценки, и коррелируют ли они с конкретными особенностями изображений или описаний.\n",
    "- **Полнота данных**. Расхождение в идентификаторах описаний позволяет предположить, что краудсорсинговый набор данных может содержать дополнительные аннотации, не оцененные экспертами. Дальнейшее изучение этих дополнительных описаний могло бы дать представление о том, представляют ли они пробел в экспертном анализе или были исключены по определенным причинам.\n",
    "\n",
    "Этот анализ необходим для понимания согласия между различными источниками аннотаций и качества аннотаций. Он может направлять разработку моделей, основанных на этих аннотациях, принимать решения о том, каким аннотациям доверять или отдавать приоритет, а также предлагать области, в которых сам процесс аннотирования может быть улучшен или дополнительно изучен."
   ]
  },
  {
   "cell_type": "markdown",
   "metadata": {},
   "source": [
    "<img src=\"https://emojigraph.org/media/apple/check-mark-button_2705.png\" align=left width=33, heigth=33>\n",
    "<div class=\"alert alert-success\">\n",
    "Молодец, что не забыаешь про выводы (подведение итогов) после исследования.    \n",
    "    \n",
    "-----    \n",
    "Кстати, есть еще достаочно интересный источник данных. Зная структуру query_id (точнее то, что там содержится ссылка на изображение для которого оно было написано), можно получить 977 пар изображение/описание идеально подходящих друг к другу.</div>"
   ]
  },
  {
   "cell_type": "markdown",
   "metadata": {
    "id": "jDjvbg53hTvU"
   },
   "source": [
    "# Проверка данных"
   ]
  },
  {
   "cell_type": "code",
   "execution_count": null,
   "metadata": {
    "colab": {
     "base_uri": "https://localhost:8080/"
    },
    "id": "TaQxN_CuKo7Z",
    "outputId": "df7dc815-19b5-40f1-e30b-aa61ca0e8a7b"
   },
   "outputs": [],
   "source": [
    "# Загрузим датасет\n",
    "file_path = os.path.join(DATA_PATH, 'train_dataset.csv')\n",
    "train_dataset = pd.read_csv(file_path)\n",
    "\n",
    "# Отобразим первые несколько строк набора данных и его основную информацию.\n",
    "train_dataset.info()\n",
    "print()\n",
    "display(train_dataset.head())"
   ]
  },
  {
   "cell_type": "code",
   "execution_count": null,
   "metadata": {
    "colab": {
     "base_uri": "https://localhost:8080/"
    },
    "id": "GCFheYC3G2_e",
    "outputId": "853b4f46-dd68-4972-d077-3095115df3bf"
   },
   "outputs": [],
   "source": [
    "# Определим список запрещенных ключевых слов.\n",
    "restricted_keywords = ['minor', \"child\", \"children\", \"toddlers\",\n",
    "                       \"kid\", \"boy\", \"girl\", \"school\", \"playground\"]\n",
    "\n",
    "# Функция проверки наличия в описании каких-либо запрещенных ключевых слов.\n",
    "def contains_restricted_keyword(text, keywords):\n",
    "    text = text.lower()\n",
    "    return any(keyword in text for keyword in keywords)\n",
    "\n",
    "# Шаг 1. Выявим плохие комментарии\n",
    "train_dataset['is_bad_comment'] = train_dataset['query_text'].apply(\n",
    "    lambda x: contains_restricted_keyword(x, restricted_keywords))\n",
    "\n",
    "# Шаг 2. Определим список плохих изображений на основе плохих комментариев.\n",
    "# Отрезаем два последних символа query_id плохих комментариев, чтобы получить список плохих изображений\n",
    "bad_images = set(train_dataset[train_dataset['is_bad_comment']]['query_id'].apply(lambda x: x[:-2]))\n",
    "\n",
    "# Шаг 3. Удаляем из нашего набора данных все пары изображений и описаний с плохими изображениями.\n",
    "filtered_train_df = train_dataset[~train_dataset['image'].isin(bad_images)]\n",
    "\n",
    "# Отображение результата фильтрации\n",
    "original_count = len(train_dataset)\n",
    "filtered_count = len(filtered_train_df)\n",
    "\n",
    "print(original_count, filtered_count)\n",
    "print()\n",
    "filtered_train_df.info()\n",
    "print()\n",
    "display(filtered_train_df.head())"
   ]
  },
  {
   "cell_type": "markdown",
   "metadata": {
    "id": "17bb86e1"
   },
   "source": [
    "<img src=\"https://upload.wikimedia.org/wikipedia/commons/thumb/8/81/Stop_sign.png/240px-Stop_sign.png\" align=left width=35, heigth=35>\n",
    "<div class=\"alert alert-danger\">\n",
    "к сожалению читать результат такого вывода невозможно.. пожалуйста используй print для чисел и display для датафреймов.\n",
    "    \n",
    "    \n",
    "</div>\n"
   ]
  },
  {
   "cell_type": "markdown",
   "metadata": {},
   "source": [
    "<div class=\"alert alert-info\">\n",
    "<b> Гасым </b>\n",
    "\n",
    "\n",
    "Исправил! \n",
    "\n",
    "</div>"
   ]
  },
  {
   "cell_type": "code",
   "execution_count": null,
   "metadata": {
    "colab": {
     "base_uri": "https://localhost:8080/"
    },
    "id": "FXW5Ll6WWFmI",
    "outputId": "98b9d737-9548-4e1d-8e6d-db8c76c9db0e"
   },
   "outputs": [],
   "source": [
    "# Шаг 1. Переименуем столбцы в filtered_train_df, чтобы они соответствовали annotations_df.\n",
    "filtered_train_df.rename(columns={'query_id': 'description_id'}, inplace=True)\n",
    "\n",
    "# Шаг 2. Объединим annotations_df с filtered_train_df\n",
    "pre_train_df = pd.merge(annotations_df, filtered_train_df, on=['image', 'description_id'])\n",
    "\n",
    "# Проверка результата\n",
    "pre_train_df.info()\n",
    "print()\n",
    "display(pre_train_df.head())"
   ]
  },
  {
   "cell_type": "code",
   "execution_count": null,
   "metadata": {
    "colab": {
     "base_uri": "https://localhost:8080/"
    },
    "id": "YgKtYP51WaB2",
    "outputId": "9106b7ab-c77b-4a66-f841-fb918f912476"
   },
   "outputs": [],
   "source": [
    "pre_train_df = pre_train_df[['image', 'description_id',\n",
    "                             'query_text', 'weighted_combined_score']]\n",
    "pre_train_df.info()\n",
    "print()\n",
    "display(pre_train_df.head())"
   ]
  },
  {
   "cell_type": "markdown",
   "metadata": {},
   "source": [
    "<img src=\"https://upload.wikimedia.org/wikipedia/commons/b/ba/Warning_sign_4.0.png\" align=left width=44, heigth=33>\n",
    "<div class=\"alert alert-warning\">\n",
    "    \n",
    "Ты удалил комментарии, в которых были запрещенные слова. Но наша задача убрать изображения, содержащие детей. Есть два способа сделать это:\n",
    "    \n",
    " - Определить список плохих изображений, как изображения удовлетворяющие условиям:\n",
    "    - Комментарий содержит плохие слова\n",
    "    - <b>Оценка соответствия комментария и изображения выше порога.</b>\n",
    " - Удалить из нашего датасета все пары \"изображение/описание\" с плохими изображениями.\n",
    "    \n",
    " \n",
    "И второй, очень красивый способ. Он основан на том, что `query_id` содержит в с себе имя изображения, для которого он был написан (такая пасхалочка от авторов датасета).\n",
    "    \n",
    " - Определить список плохих комментариев\n",
    " - У `query_id`  плохих комментариев отрезать два последних символа и получим список плохих изображений.\n",
    "    \n",
    "    \n",
    "    \n",
    "    \n",
    "    \n",
    "</div>"
   ]
  },
  {
   "cell_type": "markdown",
   "metadata": {},
   "source": [
    "<div class=\"alert alert-info\">\n",
    "<b> Гасым </b>\n",
    "\n",
    "Спасибо большое за подсказку, Дмитрий! Сделано. \n",
    "\n",
    "</div>"
   ]
  },
  {
   "cell_type": "markdown",
   "metadata": {
    "id": "0hTLgqcehupx"
   },
   "source": [
    "# Векторизация текстов"
   ]
  },
  {
   "cell_type": "code",
   "execution_count": null,
   "metadata": {
    "colab": {
     "base_uri": "https://localhost:8080/",
     "height": 319,
     "referenced_widgets": [
      "a541346e5c694ee183049fceb81329b2",
      "757e1be20a5f4fdc853f2ea693134141",
      "0e4cf94228544d85b6cfdcc97089eeff",
      "90be91f1ff2d4bf0ac336db68f121eb8",
      "04486af8e7494f33942cf4a29376f281",
      "ecd023fbbad448d586e5064f642c50ba",
      "0149e4eb92ff491b9f0f0c0be4cbd3f5",
      "c777488975d6480cb8e9e947896c0539",
      "6626ac6f78024a10b4b420308ab41126",
      "c1416be4c2234209a6d199f9bc50b123",
      "201f7ff8e15441dc8860114870efec30",
      "32541333b5af4c3c971249508a141316",
      "f2c3bf0327b84df2b7e9298d1e68a0dd",
      "ac8cd7dd7d95414e862bb6fd395aa728",
      "4ed6cba046ae4a178dede6fa6a74c94f",
      "00304d8e28634299ae8d1d7948bb0b72",
      "c7d502a1ea244db492506cb91d5b1378",
      "09aad9c915874f6fa25f7f74ab29af8d",
      "69211de3edc14ff8a99b964ba894b9e0",
      "946d99f2c29a4347a300f6013497edb6",
      "9cbcb502a5a8467ebd984fc614d44c80",
      "8b022ed73d024f9cb88fc60a608102ef",
      "4d2664f6538e40e384879dece57fea41",
      "3a9d7e72cbf94cdeb94fe8d4893c1922",
      "67f5a4cd088a4c20803e1a0db18655fd",
      "66e2a8dfc9c646a6824816a923548d60",
      "c36e2c608aac4d419af750539d9a0311",
      "ccf85d4011dd4d9abbc106a1cb8fa092",
      "255f6a4192884ab2bef9550c7c49d68b",
      "67f875d103cd4bc5bca187ff8e1bb867",
      "45d925d5e8e441e0a4422c28559360b1",
      "4408059af597451183b5230a6f087eb0",
      "d6438aff95f74a8a9382e65d1d94c885",
      "fbf61b198316406c9d68565e15ddc8e9",
      "21c5f85b410e402985ac5ac655361371",
      "188df505b20b42edacdb2bf7f3da1314",
      "a4c12c58a86346479a0496d93deb0f24",
      "6934153fce0247869789e33511e1eb6a",
      "a5378d3c840b482ead4be75dc0b2439d",
      "3bfbd715c46c46878b24ac5570acccef",
      "e88d6b2236a64ab990b90cda590baae1",
      "755c836140cb4a38a092ca4390cda3df",
      "1b1502118e284d8fa1dd69d807aa09cc",
      "be294392188946d58d79d5c4f4b8e763",
      "89b3379bb0c04905a6ab4fd8e713a97f",
      "609a3d982a5840bf9853183b24133b9a",
      "60ca49789680492ebf7f0693ef55cff8",
      "f0fd54d7f62b418c81f1dbc78c79b568",
      "76c6b296126d4267898a14b21d5efdc2",
      "0ec64f7ef3e342268f1ee87701508e2b",
      "2695f72255844f408e32c929e36a592c",
      "42e7a6a4032149e6a60a2b5ce69fe0b7",
      "1d0f4636f883485ba277ba8fe28adfa9",
      "7cd9269b59f34de18662ec2f19e1da54",
      "061c3da766e74b10897d640287a417d5"
     ]
    },
    "id": "bBNtOLutX2cZ",
    "outputId": "91fd8bd4-7308-41f4-a2ee-766478dd2237"
   },
   "outputs": [
    {
     "name": "stdout",
     "output_type": "stream",
     "text": [
      "Using device: cuda\n"
     ]
    },
    {
     "name": "stderr",
     "output_type": "stream",
     "text": [
      "/usr/local/lib/python3.10/dist-packages/huggingface_hub/utils/_token.py:72: UserWarning: \n",
      "The secret `HF_TOKEN` does not exist in your Colab secrets.\n",
      "To authenticate with the Hugging Face Hub, create a token in your settings tab (https://huggingface.co/settings/tokens), set it as secret in your Google Colab and restart your session.\n",
      "You will be able to reuse this secret in all of your notebooks.\n",
      "Please note that authentication is recommended but still optional to access public models or datasets.\n",
      "  warnings.warn(\n"
     ]
    },
    {
     "data": {
      "application/vnd.jupyter.widget-view+json": {
       "model_id": "a541346e5c694ee183049fceb81329b2",
       "version_major": 2,
       "version_minor": 0
      },
      "text/plain": [
       "tokenizer_config.json:   0%|          | 0.00/28.0 [00:00<?, ?B/s]"
      ]
     },
     "metadata": {},
     "output_type": "display_data"
    },
    {
     "data": {
      "application/vnd.jupyter.widget-view+json": {
       "model_id": "32541333b5af4c3c971249508a141316",
       "version_major": 2,
       "version_minor": 0
      },
      "text/plain": [
       "vocab.txt:   0%|          | 0.00/232k [00:00<?, ?B/s]"
      ]
     },
     "metadata": {},
     "output_type": "display_data"
    },
    {
     "data": {
      "application/vnd.jupyter.widget-view+json": {
       "model_id": "4d2664f6538e40e384879dece57fea41",
       "version_major": 2,
       "version_minor": 0
      },
      "text/plain": [
       "tokenizer.json:   0%|          | 0.00/466k [00:00<?, ?B/s]"
      ]
     },
     "metadata": {},
     "output_type": "display_data"
    },
    {
     "data": {
      "application/vnd.jupyter.widget-view+json": {
       "model_id": "fbf61b198316406c9d68565e15ddc8e9",
       "version_major": 2,
       "version_minor": 0
      },
      "text/plain": [
       "config.json:   0%|          | 0.00/570 [00:00<?, ?B/s]"
      ]
     },
     "metadata": {},
     "output_type": "display_data"
    },
    {
     "data": {
      "application/vnd.jupyter.widget-view+json": {
       "model_id": "89b3379bb0c04905a6ab4fd8e713a97f",
       "version_major": 2,
       "version_minor": 0
      },
      "text/plain": [
       "model.safetensors:   0%|          | 0.00/440M [00:00<?, ?B/s]"
      ]
     },
     "metadata": {},
     "output_type": "display_data"
    }
   ],
   "source": [
    "# Функция кодирования текста с использованием BERT с помощью графического процессора\n",
    "def bert_encode(text, model, tokenizer, device):\n",
    "    input_ids = tokenizer.encode(text, add_special_tokens=True)\n",
    "    input_ids = torch.tensor(input_ids).unsqueeze(0).to(device)\n",
    "\n",
    "    # Получим выходные данные (последние скрытые состояния) из модели BERT.\n",
    "    with torch.no_grad():\n",
    "        last_hidden_states = model(input_ids)[0]\n",
    "\n",
    "    # Переместим результат обратно в ЦП и преобразуем в numpy\n",
    "    return last_hidden_states[0][0].cpu().numpy()\n",
    "\n",
    "# Проверим доступность графического процессора\n",
    "device = torch.device(\"cuda\" if torch.cuda.is_available() else \"cpu\")\n",
    "print(f\"Using device: {device}\")\n",
    "\n",
    "# Загрузим предварительно обученный токенизатор модели и модель и отправим модель в графический процессор.\n",
    "tokenizer = BertTokenizer.from_pretrained('bert-base-uncased')\n",
    "model = BertModel.from_pretrained('bert-base-uncased').to(device)\n",
    "\n",
    "# Векторизуем текстовые описания\n",
    "pre_train_df['bert_vector'] = pre_train_df['query_text'].apply(lambda x: bert_encode(x, model, tokenizer, device))"
   ]
  },
  {
   "cell_type": "code",
   "execution_count": null,
   "metadata": {
    "colab": {
     "base_uri": "https://localhost:8080/",
     "height": 501
    },
    "id": "Uwxiy8RCYK72",
    "outputId": "dd6e9ba8-30c5-4610-c942-23a34500a60e"
   },
   "outputs": [
    {
     "data": {
      "text/html": [
       "\n",
       "  <div id=\"df-fd5e10bb-d6e5-4d11-abd7-0377d2c6aa2a\" class=\"colab-df-container\">\n",
       "    <div>\n",
       "<style scoped>\n",
       "    .dataframe tbody tr th:only-of-type {\n",
       "        vertical-align: middle;\n",
       "    }\n",
       "\n",
       "    .dataframe tbody tr th {\n",
       "        vertical-align: top;\n",
       "    }\n",
       "\n",
       "    .dataframe thead th {\n",
       "        text-align: right;\n",
       "    }\n",
       "</style>\n",
       "<table border=\"1\" class=\"dataframe\">\n",
       "  <thead>\n",
       "    <tr style=\"text-align: right;\">\n",
       "      <th></th>\n",
       "      <th>Image file name</th>\n",
       "      <th>Description ID</th>\n",
       "      <th>query_text</th>\n",
       "      <th>Weighted Combined Score</th>\n",
       "      <th>bert_vector</th>\n",
       "    </tr>\n",
       "  </thead>\n",
       "  <tbody>\n",
       "    <tr>\n",
       "      <th>0</th>\n",
       "      <td>1056338697_4f7d7ce270.jpg</td>\n",
       "      <td>434792818_56375e203f.jpg#2</td>\n",
       "      <td>A man and woman look back at the camera while ...</td>\n",
       "      <td>0.200000</td>\n",
       "      <td>[0.20837602, 0.19895823, 0.058023393, -0.02440...</td>\n",
       "    </tr>\n",
       "    <tr>\n",
       "      <th>1</th>\n",
       "      <td>1082379191_ec1e53f996.jpg</td>\n",
       "      <td>1536774449_e16b1b6382.jpg#2</td>\n",
       "      <td>A crowd of people at an outdoor event</td>\n",
       "      <td>0.300000</td>\n",
       "      <td>[-0.014534058, -0.039590366, -0.2054309, 0.139...</td>\n",
       "    </tr>\n",
       "    <tr>\n",
       "      <th>2</th>\n",
       "      <td>1084040636_97d9633581.jpg</td>\n",
       "      <td>256085101_2c2617c5d0.jpg#2</td>\n",
       "      <td>Close-up of dog in profile with mouth open .</td>\n",
       "      <td>0.533333</td>\n",
       "      <td>[-0.78212327, -0.5189205, -0.44774392, 0.03597...</td>\n",
       "    </tr>\n",
       "    <tr>\n",
       "      <th>3</th>\n",
       "      <td>1084040636_97d9633581.jpg</td>\n",
       "      <td>3396157719_6807d52a81.jpg#2</td>\n",
       "      <td>A dog gets on a trampoline .</td>\n",
       "      <td>0.250000</td>\n",
       "      <td>[-0.17570308, 0.104248144, -0.6895283, 0.16900...</td>\n",
       "    </tr>\n",
       "    <tr>\n",
       "      <th>4</th>\n",
       "      <td>1096395242_fc69f0ae5a.jpg</td>\n",
       "      <td>1425069308_488e5fcf9d.jpg#2</td>\n",
       "      <td>A white dog jumps to catch a blue ball in a li...</td>\n",
       "      <td>0.300000</td>\n",
       "      <td>[-0.36722273, 0.01828046, -0.89691925, 0.20806...</td>\n",
       "    </tr>\n",
       "  </tbody>\n",
       "</table>\n",
       "</div>\n",
       "    <div class=\"colab-df-buttons\">\n",
       "\n",
       "  <div class=\"colab-df-container\">\n",
       "    <button class=\"colab-df-convert\" onclick=\"convertToInteractive('df-fd5e10bb-d6e5-4d11-abd7-0377d2c6aa2a')\"\n",
       "            title=\"Convert this dataframe to an interactive table.\"\n",
       "            style=\"display:none;\">\n",
       "\n",
       "  <svg xmlns=\"http://www.w3.org/2000/svg\" height=\"24px\" viewBox=\"0 -960 960 960\">\n",
       "    <path d=\"M120-120v-720h720v720H120Zm60-500h600v-160H180v160Zm220 220h160v-160H400v160Zm0 220h160v-160H400v160ZM180-400h160v-160H180v160Zm440 0h160v-160H620v160ZM180-180h160v-160H180v160Zm440 0h160v-160H620v160Z\"/>\n",
       "  </svg>\n",
       "    </button>\n",
       "\n",
       "  <style>\n",
       "    .colab-df-container {\n",
       "      display:flex;\n",
       "      gap: 12px;\n",
       "    }\n",
       "\n",
       "    .colab-df-convert {\n",
       "      background-color: #E8F0FE;\n",
       "      border: none;\n",
       "      border-radius: 50%;\n",
       "      cursor: pointer;\n",
       "      display: none;\n",
       "      fill: #1967D2;\n",
       "      height: 32px;\n",
       "      padding: 0 0 0 0;\n",
       "      width: 32px;\n",
       "    }\n",
       "\n",
       "    .colab-df-convert:hover {\n",
       "      background-color: #E2EBFA;\n",
       "      box-shadow: 0px 1px 2px rgba(60, 64, 67, 0.3), 0px 1px 3px 1px rgba(60, 64, 67, 0.15);\n",
       "      fill: #174EA6;\n",
       "    }\n",
       "\n",
       "    .colab-df-buttons div {\n",
       "      margin-bottom: 4px;\n",
       "    }\n",
       "\n",
       "    [theme=dark] .colab-df-convert {\n",
       "      background-color: #3B4455;\n",
       "      fill: #D2E3FC;\n",
       "    }\n",
       "\n",
       "    [theme=dark] .colab-df-convert:hover {\n",
       "      background-color: #434B5C;\n",
       "      box-shadow: 0px 1px 3px 1px rgba(0, 0, 0, 0.15);\n",
       "      filter: drop-shadow(0px 1px 2px rgba(0, 0, 0, 0.3));\n",
       "      fill: #FFFFFF;\n",
       "    }\n",
       "  </style>\n",
       "\n",
       "    <script>\n",
       "      const buttonEl =\n",
       "        document.querySelector('#df-fd5e10bb-d6e5-4d11-abd7-0377d2c6aa2a button.colab-df-convert');\n",
       "      buttonEl.style.display =\n",
       "        google.colab.kernel.accessAllowed ? 'block' : 'none';\n",
       "\n",
       "      async function convertToInteractive(key) {\n",
       "        const element = document.querySelector('#df-fd5e10bb-d6e5-4d11-abd7-0377d2c6aa2a');\n",
       "        const dataTable =\n",
       "          await google.colab.kernel.invokeFunction('convertToInteractive',\n",
       "                                                    [key], {});\n",
       "        if (!dataTable) return;\n",
       "\n",
       "        const docLinkHtml = 'Like what you see? Visit the ' +\n",
       "          '<a target=\"_blank\" href=https://colab.research.google.com/notebooks/data_table.ipynb>data table notebook</a>'\n",
       "          + ' to learn more about interactive tables.';\n",
       "        element.innerHTML = '';\n",
       "        dataTable['output_type'] = 'display_data';\n",
       "        await google.colab.output.renderOutput(dataTable, element);\n",
       "        const docLink = document.createElement('div');\n",
       "        docLink.innerHTML = docLinkHtml;\n",
       "        element.appendChild(docLink);\n",
       "      }\n",
       "    </script>\n",
       "  </div>\n",
       "\n",
       "\n",
       "<div id=\"df-8a6d2905-2377-4317-817d-2b132061c71a\">\n",
       "  <button class=\"colab-df-quickchart\" onclick=\"quickchart('df-8a6d2905-2377-4317-817d-2b132061c71a')\"\n",
       "            title=\"Suggest charts\"\n",
       "            style=\"display:none;\">\n",
       "\n",
       "<svg xmlns=\"http://www.w3.org/2000/svg\" height=\"24px\"viewBox=\"0 0 24 24\"\n",
       "     width=\"24px\">\n",
       "    <g>\n",
       "        <path d=\"M19 3H5c-1.1 0-2 .9-2 2v14c0 1.1.9 2 2 2h14c1.1 0 2-.9 2-2V5c0-1.1-.9-2-2-2zM9 17H7v-7h2v7zm4 0h-2V7h2v10zm4 0h-2v-4h2v4z\"/>\n",
       "    </g>\n",
       "</svg>\n",
       "  </button>\n",
       "\n",
       "<style>\n",
       "  .colab-df-quickchart {\n",
       "      --bg-color: #E8F0FE;\n",
       "      --fill-color: #1967D2;\n",
       "      --hover-bg-color: #E2EBFA;\n",
       "      --hover-fill-color: #174EA6;\n",
       "      --disabled-fill-color: #AAA;\n",
       "      --disabled-bg-color: #DDD;\n",
       "  }\n",
       "\n",
       "  [theme=dark] .colab-df-quickchart {\n",
       "      --bg-color: #3B4455;\n",
       "      --fill-color: #D2E3FC;\n",
       "      --hover-bg-color: #434B5C;\n",
       "      --hover-fill-color: #FFFFFF;\n",
       "      --disabled-bg-color: #3B4455;\n",
       "      --disabled-fill-color: #666;\n",
       "  }\n",
       "\n",
       "  .colab-df-quickchart {\n",
       "    background-color: var(--bg-color);\n",
       "    border: none;\n",
       "    border-radius: 50%;\n",
       "    cursor: pointer;\n",
       "    display: none;\n",
       "    fill: var(--fill-color);\n",
       "    height: 32px;\n",
       "    padding: 0;\n",
       "    width: 32px;\n",
       "  }\n",
       "\n",
       "  .colab-df-quickchart:hover {\n",
       "    background-color: var(--hover-bg-color);\n",
       "    box-shadow: 0 1px 2px rgba(60, 64, 67, 0.3), 0 1px 3px 1px rgba(60, 64, 67, 0.15);\n",
       "    fill: var(--button-hover-fill-color);\n",
       "  }\n",
       "\n",
       "  .colab-df-quickchart-complete:disabled,\n",
       "  .colab-df-quickchart-complete:disabled:hover {\n",
       "    background-color: var(--disabled-bg-color);\n",
       "    fill: var(--disabled-fill-color);\n",
       "    box-shadow: none;\n",
       "  }\n",
       "\n",
       "  .colab-df-spinner {\n",
       "    border: 2px solid var(--fill-color);\n",
       "    border-color: transparent;\n",
       "    border-bottom-color: var(--fill-color);\n",
       "    animation:\n",
       "      spin 1s steps(1) infinite;\n",
       "  }\n",
       "\n",
       "  @keyframes spin {\n",
       "    0% {\n",
       "      border-color: transparent;\n",
       "      border-bottom-color: var(--fill-color);\n",
       "      border-left-color: var(--fill-color);\n",
       "    }\n",
       "    20% {\n",
       "      border-color: transparent;\n",
       "      border-left-color: var(--fill-color);\n",
       "      border-top-color: var(--fill-color);\n",
       "    }\n",
       "    30% {\n",
       "      border-color: transparent;\n",
       "      border-left-color: var(--fill-color);\n",
       "      border-top-color: var(--fill-color);\n",
       "      border-right-color: var(--fill-color);\n",
       "    }\n",
       "    40% {\n",
       "      border-color: transparent;\n",
       "      border-right-color: var(--fill-color);\n",
       "      border-top-color: var(--fill-color);\n",
       "    }\n",
       "    60% {\n",
       "      border-color: transparent;\n",
       "      border-right-color: var(--fill-color);\n",
       "    }\n",
       "    80% {\n",
       "      border-color: transparent;\n",
       "      border-right-color: var(--fill-color);\n",
       "      border-bottom-color: var(--fill-color);\n",
       "    }\n",
       "    90% {\n",
       "      border-color: transparent;\n",
       "      border-bottom-color: var(--fill-color);\n",
       "    }\n",
       "  }\n",
       "</style>\n",
       "\n",
       "  <script>\n",
       "    async function quickchart(key) {\n",
       "      const quickchartButtonEl =\n",
       "        document.querySelector('#' + key + ' button');\n",
       "      quickchartButtonEl.disabled = true;  // To prevent multiple clicks.\n",
       "      quickchartButtonEl.classList.add('colab-df-spinner');\n",
       "      try {\n",
       "        const charts = await google.colab.kernel.invokeFunction(\n",
       "            'suggestCharts', [key], {});\n",
       "      } catch (error) {\n",
       "        console.error('Error during call to suggestCharts:', error);\n",
       "      }\n",
       "      quickchartButtonEl.classList.remove('colab-df-spinner');\n",
       "      quickchartButtonEl.classList.add('colab-df-quickchart-complete');\n",
       "    }\n",
       "    (() => {\n",
       "      let quickchartButtonEl =\n",
       "        document.querySelector('#df-8a6d2905-2377-4317-817d-2b132061c71a button');\n",
       "      quickchartButtonEl.style.display =\n",
       "        google.colab.kernel.accessAllowed ? 'block' : 'none';\n",
       "    })();\n",
       "  </script>\n",
       "</div>\n",
       "\n",
       "    </div>\n",
       "  </div>\n"
      ],
      "text/plain": [
       "             Image file name               Description ID  \\\n",
       "0  1056338697_4f7d7ce270.jpg   434792818_56375e203f.jpg#2   \n",
       "1  1082379191_ec1e53f996.jpg  1536774449_e16b1b6382.jpg#2   \n",
       "2  1084040636_97d9633581.jpg   256085101_2c2617c5d0.jpg#2   \n",
       "3  1084040636_97d9633581.jpg  3396157719_6807d52a81.jpg#2   \n",
       "4  1096395242_fc69f0ae5a.jpg  1425069308_488e5fcf9d.jpg#2   \n",
       "\n",
       "                                          query_text  Weighted Combined Score  \\\n",
       "0  A man and woman look back at the camera while ...                 0.200000   \n",
       "1              A crowd of people at an outdoor event                 0.300000   \n",
       "2       Close-up of dog in profile with mouth open .                 0.533333   \n",
       "3                       A dog gets on a trampoline .                 0.250000   \n",
       "4  A white dog jumps to catch a blue ball in a li...                 0.300000   \n",
       "\n",
       "                                         bert_vector  \n",
       "0  [0.20837602, 0.19895823, 0.058023393, -0.02440...  \n",
       "1  [-0.014534058, -0.039590366, -0.2054309, 0.139...  \n",
       "2  [-0.78212327, -0.5189205, -0.44774392, 0.03597...  \n",
       "3  [-0.17570308, 0.104248144, -0.6895283, 0.16900...  \n",
       "4  [-0.36722273, 0.01828046, -0.89691925, 0.20806...  "
      ]
     },
     "execution_count": 20,
     "metadata": {},
     "output_type": "execute_result"
    }
   ],
   "source": [
    "pre_train_df.head()"
   ]
  },
  {
   "cell_type": "code",
   "execution_count": null,
   "metadata": {
    "colab": {
     "base_uri": "https://localhost:8080/"
    },
    "id": "JTB7TxeFYdT4",
    "outputId": "2ffab7f8-b090-41c6-c750-9cacbdad77c1"
   },
   "outputs": [
    {
     "name": "stdout",
     "output_type": "stream",
     "text": [
      "<class 'pandas.core.frame.DataFrame'>\n",
      "Int64Index: 1811 entries, 0 to 1810\n",
      "Data columns (total 5 columns):\n",
      " #   Column                   Non-Null Count  Dtype  \n",
      "---  ------                   --------------  -----  \n",
      " 0   Image file name          1811 non-null   object \n",
      " 1   Description ID           1811 non-null   object \n",
      " 2   query_text               1811 non-null   object \n",
      " 3   Weighted Combined Score  1811 non-null   float64\n",
      " 4   bert_vector              1811 non-null   object \n",
      "dtypes: float64(1), object(4)\n",
      "memory usage: 84.9+ KB\n"
     ]
    }
   ],
   "source": [
    "pre_train_df.info()"
   ]
  },
  {
   "cell_type": "code",
   "execution_count": null,
   "metadata": {},
   "outputs": [],
   "source": [
    "# Выберем один вектор из датафрейма, чтобы проверить его размерность.\n",
    "sample_vector = pre_train_df['bert_vector'].iloc[0]\n",
    "\n",
    "# Распечатаем размерность вектора выборки\n",
    "print(f\"Размерность вектора BERT равна: {sample_vector.shape}\")"
   ]
  },
  {
   "cell_type": "markdown",
   "metadata": {
    "id": "D9bNaO6Cm4gC"
   },
   "source": [
    "Чтобы векторизировать тексты с помощью BERT из Hugging Face Transformers, были выполнены следующие действия:\n",
    "\n",
    "1. **Настройка среды**: установлена необходимая библиотека из Hugging Face - transformers.\n",
    "2. **Загрузка предварительно обученной модели BERT и токенизатора**: Использована предварительно обученная модель BERT, подходящая для наших нужд, вместе с соответствующим токенизатором.\n",
    "3. **Предварительная обработка и токенизация текста**: Подготовлены текстовые данные для модели, включая их токенизацию и правильное форматирование.\n",
    "4. **Генерация эмбеддингов**: токенизированный текст был передан модели, чтобы получить эмбеддинги - числовые векторы."
   ]
  },
  {
   "cell_type": "markdown",
   "metadata": {},
   "source": [
    "<img src=\"https://emojigraph.org/media/apple/check-mark-button_2705.png\" align=left width=33, heigth=33>\n",
    "<div class=\"alert alert-success\">\n",
    "Отлично,полученные векторные представления для текстов описаний с помощью BERT </div>"
   ]
  },
  {
   "cell_type": "markdown",
   "metadata": {},
   "source": [
    "<img src=\"https://upload.wikimedia.org/wikipedia/commons/b/ba/Warning_sign_4.0.png\" align=left width=44, heigth=33>\n",
    "<div class=\"alert alert-warning\">\n",
    "Но было бы неплохо показать размерность полученного вектора описания\n",
    "</div>"
   ]
  },
  {
   "cell_type": "markdown",
   "metadata": {},
   "source": [
    "<div class=\"alert alert-info\">\n",
    "<b> Гасым </b>\n",
    "\n",
    "Отличная идея! Сделано. \n",
    "\n",
    "</div>"
   ]
  },
  {
   "cell_type": "markdown",
   "metadata": {},
   "source": [
    "<img src=\"https://upload.wikimedia.org/wikipedia/commons/b/ba/Warning_sign_4.0.png\" align=left width=44, heigth=33>\n",
    "<div class=\"alert alert-warning\">\n",
    "В этом раздеел есть проблема и заключается она в следующем. Для векторизации ты использовал BERT, основанный на Pytorch.  А для векторизации изображений и итоговой модели используешь Keras (pytorch).  Поддержка двух DL фреймворков - это будет ад для девопса. Поэтому хорошей практикой является использование одного фреймворка в одном проекте. Можно взять TF версию модели из tramnsformers (или модель BERT из Keras NLP)\n",
    "\n",
    "----\n",
    "    \n",
    "Хотя должен отметить, что после выхода последней версии Keras, поддерживающей pytorch границы между фрейморками начинают стираться.    \n",
    "\n",
    "\n",
    "</div>"
   ]
  },
  {
   "cell_type": "markdown",
   "metadata": {},
   "source": [
    "<div class=\"alert alert-info\">\n",
    "<b> Гасым </b>\n",
    "\n",
    "Сделано! В векторизации изображений применил PyTorch (как и при векторизации текстов) вместо TF Keras.\n",
    "\n",
    "</div>"
   ]
  },
  {
   "cell_type": "markdown",
   "metadata": {
    "id": "XmamLa5QY27U"
   },
   "source": [
    "# Векторизация изображений"
   ]
  },
  {
   "cell_type": "code",
   "execution_count": null,
   "metadata": {},
   "outputs": [],
   "source": [
    "image_dir = os.path.join(DATA_PATH, 'train_images')"
   ]
  },
  {
   "cell_type": "code",
   "execution_count": null,
   "metadata": {
    "colab": {
     "base_uri": "https://localhost:8080/",
     "height": 478
    },
    "id": "o53GIl8sgu3k",
    "outputId": "53f68996-57a1-4cb8-95db-689daa050065"
   },
   "outputs": [],
   "source": [
    "# Определите устройство\n",
    "device = torch.device(\"cuda\" if torch.cuda.is_available() else \"cpu\")\n",
    "\n",
    "# Загрузим предварительно обученную модель ResNet50.\n",
    "resnet_model = models.resnet50(pretrained=True)\n",
    "# Удалим последний полностью связанный слой\n",
    "modules = list(resnet_model.children())[:-1]\n",
    "resnet_model = nn.Sequential(*modules)\n",
    "# Переместим модель на устройство и установим ее в оценочный режим.\n",
    "resnet_model = resnet_model.to(device)\n",
    "resnet_model.eval()\n",
    "\n",
    "# Определите преобразования\n",
    "transform = transforms.Compose([\n",
    "    transforms.Resize(256),\n",
    "    transforms.CenterCrop(224),\n",
    "    transforms.ToTensor(),\n",
    "    transforms.Normalize(mean=[0.485, 0.456, 0.406], std=[0.229, 0.224, 0.225]),\n",
    "])\n",
    "\n",
    "# Функция кодирования изображений с помощью ResNet50\n",
    "def resnet50_encode(img_path):\n",
    "    img = Image.open(img_path)\n",
    "    img_t = transform(img).unsqueeze(0).to(device)\n",
    "\n",
    "    with torch.no_grad():\n",
    "        features = resnet_model(img_t)\n",
    "\n",
    "    return features.cpu().numpy().flatten()\n",
    "\n",
    "# Инициализируем список для хранения имен файлов изображений и соответствующих им векторов.\n",
    "image_data = []\n",
    "# Обработка каждого изображения в директории\n",
    "for img_name in os.listdir(image_dir):\n",
    "    img_path = os.path.join(image_dir, img_name)\n",
    "    if os.path.isfile(img_path):  # Убедимся, что это файл, а не подкаталог.\n",
    "        img_vector = resnet50_encode(img_path)\n",
    "        image_data.append({'image': img_name, 'resnet50_vector': img_vector})\n",
    "\n",
    "# Преобразуем список словарей в DataFrame\n",
    "image_vectors_df = pd.DataFrame(image_data)\n",
    "image_vectors_df"
   ]
  },
  {
   "cell_type": "code",
   "execution_count": null,
   "metadata": {
    "colab": {
     "base_uri": "https://localhost:8080/"
    },
    "id": "za3LEL17cl9A",
    "outputId": "ab5ad690-81de-4ebf-fa0a-7c1587717fa5"
   },
   "outputs": [],
   "source": [
    "image_vectors_df.info()"
   ]
  },
  {
   "cell_type": "code",
   "execution_count": null,
   "metadata": {
    "colab": {
     "base_uri": "https://localhost:8080/"
    },
    "id": "AJGKNnFXZwXA",
    "outputId": "ebd4d3b7-a214-4417-d95a-5ef4c6185c19"
   },
   "outputs": [],
   "source": [
    "# Объединение pre_train_df с image_vectors_df по 'Image file name'\n",
    "final_train_df = pd.merge(pre_train_df, image_vectors_df, on='image')\n",
    "final_train_df.info()"
   ]
  },
  {
   "cell_type": "code",
   "execution_count": null,
   "metadata": {
    "colab": {
     "base_uri": "https://localhost:8080/",
     "height": 556
    },
    "id": "X51KIxi4bJrD",
    "outputId": "f330a725-d71e-461f-e04a-7e3ceec142c2"
   },
   "outputs": [],
   "source": [
    "final_train_df.head()"
   ]
  },
  {
   "cell_type": "code",
   "execution_count": null,
   "metadata": {},
   "outputs": [],
   "source": [
    "# Выберем один вектор из датафрейма, чтобы проверить его размерность.\n",
    "sample_image_vector = final_train_df['resnet50_vector'].iloc[0]\n",
    "\n",
    "# Распечатаем размер образца векторного изображения.\n",
    "print(f\"Размерность вектора изображения ResNet50 равна: {sample_image_vector.shape}\")"
   ]
  },
  {
   "cell_type": "markdown",
   "metadata": {},
   "source": [
    "Учитывая размеры векторов изображения и текста, полученных из ResNet50 и BERT соответственно, мы можем детализировать полученные пары векторов следующим образом:\n",
    "\n",
    "1. **Размер вектора изображения ResNet50**: (2048,)\n",
    "    — Каждое изображение представлено вектором длиной 2048, который является результатом модели ResNet50 после обработки изображения.\n",
    "\n",
    "2. **Размер вектора текста BERT**: (768,)\n",
    "    — Каждое текстовое описание представлено вектором длиной 768, полученным из модели BERT.\n",
    "\n",
    "### Объединенный вектор для входных данных модели\n",
    "\n",
    "Для создания модели, которая оценивает близость изображения и текстового описания, нам необходимо объединить эти два вектора. Полученный объединенный вектор будет иметь следующие свойства:\n",
    "\n",
    "- **Размер конкатенированного вектора**: (2048 + 768) = (2816)\n",
    "    - Это получается простым сложением размеров отдельных векторов.\n",
    "    - Объединенный вектор эффективно сочетает в себе признаки, извлеченные как из изображения, так и из текстового описания.\n",
    "\n",
    "### Использование в модели\n",
    "\n",
    "- Объединенный вектор размерности (2816) будет использоваться в качестве входных данных для модели машинного обучения.\n",
    "- Эта модель научится прогнозировать итоговую оценку экспертов на основе совокупности признаков векторов текста и изображения.\n",
    "- Модель может представлять собой линейную регрессию, полностью связанную нейронную сеть или любую другую подходящую модель, способную обрабатывать эту размерность и выполнять задачи регрессии.\n",
    "\n",
    "### Заключение\n",
    "\n",
    "Комбинированный вектор изображений и текстовых представлений обеспечивает полный набор признаков, на которых модель может учиться. Он инкапсулирует как визуальную, так и текстовую информацию, что имеет решающее значение для точного прогнозирования экспертной оценки соответствия изображения и его описания. Размерность (2816) должна быть приемлемой для большинства современных сред машинного обучения и обеспечивать эффективное обучение и прогнозирование."
   ]
  },
  {
   "cell_type": "markdown",
   "metadata": {},
   "source": [
    "<img src=\"https://emojigraph.org/media/apple/check-mark-button_2705.png\" align=left width=33, heigth=33>\n",
    "<div class=\"alert alert-success\">\n",
    "Здесь все ОК, векторизация изображений произведена верно </div>"
   ]
  },
  {
   "cell_type": "markdown",
   "metadata": {},
   "source": [
    "<img src=\"https://upload.wikimedia.org/wikipedia/commons/b/ba/Warning_sign_4.0.png\" align=left width=44, heigth=33>\n",
    "<div class=\"alert alert-warning\">\n",
    "Но было бы неплохо показать размерность полученного вектора изображения\n",
    "</div>"
   ]
  },
  {
   "cell_type": "markdown",
   "metadata": {},
   "source": [
    "<div class=\"alert alert-info\">\n",
    "<b> Гасым </b>\n",
    "\n",
    "Сделано. \n",
    "\n",
    "</div>"
   ]
  },
  {
   "cell_type": "markdown",
   "metadata": {
    "id": "cp0yBxFTgHvM"
   },
   "source": [
    "# Обучение модели"
   ]
  },
  {
   "cell_type": "code",
   "execution_count": null,
   "metadata": {
    "colab": {
     "base_uri": "https://localhost:8080/"
    },
    "id": "Zg9TdND7LhPh",
    "outputId": "549dc435-217c-4545-e8fa-3880c8da3445"
   },
   "outputs": [],
   "source": [
    "# Конкатенируем «bert_vector» и «resnet50_vector», чтобы создать один вектор признаков.\n",
    "X = np.hstack((np.array(final_train_df['bert_vector'].tolist()),\n",
    "               np.array(final_train_df['resnet50_vector'].tolist())))\n",
    "\n",
    "# Целевая переменная 'Weighted Combined Score'\n",
    "y = final_train_df['weighted_combined_score'].values\n",
    "\n",
    "# Определим группы\n",
    "groups = final_train_df['image'].values\n",
    "\n",
    "# Инициализируем GroupShuffleSplit\n",
    "gss = GroupShuffleSplit(n_splits=1, test_size=0.2, random_state=42)\n",
    "\n",
    "# Получим индексы для первого разделения\n",
    "train_idx, valid_idx = next(gss.split(X, y, groups=groups))\n",
    "\n",
    "# Разделение данных на обучающие и тестовые наборы с использованием индексов\n",
    "X_train, X_valid = X[train_idx], X[valid_idx]\n",
    "y_train, y_valid = y[train_idx], y[valid_idx]\n",
    "\n",
    "print(X_train.shape, X_valid.shape, y_train.shape, y_valid.shape)"
   ]
  },
  {
   "cell_type": "markdown",
   "metadata": {},
   "source": [
    "**Вывод**:\n",
    "\n",
    "- Объединенный вектор признаков X имеет размерность (2816) и объединяет 768-мерный текстовый вектор BERT и 2048-мерный вектор изображения ResNet50.\n",
    "- GroupShuffleSplit используется для обеспечения отсутствия одного и того же изображения как в обучающем, так и в проверочном наборах, обеспечивая целостность процесса проверки.\n",
    "- Размеры наборов обучения и проверки подтверждают, что данные были правильно разделены.  Обучающий набор содержит 3311 выборок, а проверочный набор — 834 выборки, каждая из которых имеет векторы признаков 2816 измерений."
   ]
  },
  {
   "cell_type": "markdown",
   "metadata": {},
   "source": [
    "<img src=\"https://emojigraph.org/media/apple/check-mark-button_2705.png\" align=left width=33, heigth=33>\n",
    "<div class=\"alert alert-success\">\n",
    " Вектора, полученные из текста и изображения объеденены👍 </div>"
   ]
  },
  {
   "cell_type": "markdown",
   "metadata": {
    "id": "87c8f9ce"
   },
   "source": [
    "<img src=\"https://upload.wikimedia.org/wikipedia/commons/b/ba/Warning_sign_4.0.png\" align=left width=44, heigth=33>\n",
    "<div class=\"alert alert-warning\">\n",
    "Здесь напрашивается небольшой вывод, хотя бы с указанием размерностей полученных признаков.  \n",
    "</div>"
   ]
  },
  {
   "cell_type": "markdown",
   "metadata": {},
   "source": [
    "<img src=\"https://emojigraph.org/media/apple/check-mark-button_2705.png\" align=left width=33, heigth=33>\n",
    "<div class=\"alert alert-success\">\n",
    "Отлично, благодаря использованию GroupShuffleSplit ты исключаешь попадание одного изображения в обучающий и валидационный наборы.</div>"
   ]
  },
  {
   "cell_type": "markdown",
   "metadata": {
    "id": "diQyugE-EoPS"
   },
   "source": [
    "<img src=\"https://upload.wikimedia.org/wikipedia/commons/b/ba/Warning_sign_4.0.png\" align=left width=44, heigth=33>\n",
    "<div class=\"alert alert-warning\">\n",
    "Только давай разберемся с выборками. Финальное тестирование (визуальное) мы делаем на отложенной выборке. Поэтому выборка,которую ты сейчас отделил играет роль валидационной. Есть смысл в её названии использовать слово valid а не test</div>"
   ]
  },
  {
   "cell_type": "markdown",
   "metadata": {},
   "source": [
    "<div class=\"alert alert-info\">\n",
    "<b> Гасым </b>\n",
    "\n",
    "Сделано. \n",
    "\n",
    "</div>"
   ]
  },
  {
   "cell_type": "markdown",
   "metadata": {
    "id": "stO4JARtgZMB"
   },
   "source": [
    "## Модель 1: Baseline DummyRegressor"
   ]
  },
  {
   "cell_type": "markdown",
   "metadata": {},
   "source": [
    "<img src=\"https://upload.wikimedia.org/wikipedia/commons/thumb/8/81/Stop_sign.png/240px-Stop_sign.png\" align=left width=35, heigth=35>\n",
    "<div class=\"alert alert-danger\">\n",
    "В этом задании требуется выбрать основную метрику, которую ты будешь оптимизировать. Я вижу что ты уже выбрал метрики  mse/rmse, поэтому просто напиши обоснование для своего выбора.  </div>"
   ]
  },
  {
   "cell_type": "markdown",
   "metadata": {},
   "source": [
    "<div class=\"alert alert-info\">\n",
    "<b> Гасым </b>\n",
    "\n",
    "Сделано. \n",
    "\n",
    "</div>"
   ]
  },
  {
   "cell_type": "markdown",
   "metadata": {},
   "source": [
    "**Обоснование выбора MSE/RMSE**:\n",
    "\n",
    "1. ***Характер проблемы***: Поскольку мы прогнозируем непрерывную переменную (взвешенный комбинированный балл), подходят такие метрики регрессии, как MSE и RMSE.  \n",
    "\n",
    "\n",
    "2. ***Интерпретируемость***:\n",
    "    - **MSE**: измеряет среднеквадратическую разницу между расчетными значениями и фактическими значениями. Будучи возведенным в квадрат, он наказывает за большие ошибки более строго, чем за меньшие, что часто желательно в задачах регрессии.\n",
    "    - **RMSE**: это просто квадратный корень из MSE, который возвращает метрику ошибки к тому же масштабу, что и целевая переменная. Это делает RMSE более интерпретируемым, поскольку его можно понимать в тех же единицах, что и прогнозируемую переменную.  \n",
    "\n",
    "\n",
    "3. ***Чувствительность к выбросам***: И MSE, и RMSE чувствительны к выбросам, что может быть полезно, если в нашем контексте важно выявлять и наказывать большие отклонения от фактических значений."
   ]
  },
  {
   "cell_type": "markdown",
   "metadata": {},
   "source": [
    "<img src=\"https://upload.wikimedia.org/wikipedia/commons/b/ba/Warning_sign_4.0.png\" align=left width=44, heigth=33>\n",
    "<div class=\"alert alert-warning\">\n",
    "Мы решаем новую задачу и не знаем, наксколько хороши наши метрики и наши модели. Поэтому советую начать с бейзлайна - константной модели (можешь взять простой DummyRegressor).</div>"
   ]
  },
  {
   "cell_type": "markdown",
   "metadata": {},
   "source": [
    "Прежде чем углубляться в более сложные модели, рекомендуется определить базовую производительность с помощью простой модели. Это помогает понять ожидаемую минимальную производительность и оценить улучшение, предлагаемое более сложными моделями. DummyRegressor из scikit-learn — хороший выбор для этой цели:"
   ]
  },
  {
   "cell_type": "code",
   "execution_count": null,
   "metadata": {},
   "outputs": [],
   "source": [
    "# Инициализируем DummyRegressor\n",
    "dummy_regr = DummyRegressor(strategy=\"mean\")\n",
    "\n",
    "# Подгоним DummyRegressor к обучающим данным.\n",
    "dummy_regr.fit(X_train, y_train)\n",
    "\n",
    "# Прогнозирование на основе данных проверки\n",
    "y_dummy_pred = dummy_regr.predict(X_valid)\n",
    "\n",
    "# Оценка\n",
    "mse_dummy = mean_squared_error(y_valid, y_dummy_pred)\n",
    "rmse_dummy = np.sqrt(mse_dummy)\n",
    "\n",
    "print(\"Dummy Regressor - MSE:\", mse_dummy)\n",
    "print(\"Dummy Regressor - RMSE:\", rmse_dummy)"
   ]
  },
  {
   "cell_type": "markdown",
   "metadata": {},
   "source": [
    "## Модель 2: Линейная регрессия"
   ]
  },
  {
   "cell_type": "code",
   "execution_count": null,
   "metadata": {
    "colab": {
     "base_uri": "https://localhost:8080/"
    },
    "id": "8zPEUxUqgWjT",
    "outputId": "bd38ec10-9a0e-40ef-9496-478fefc6e401"
   },
   "outputs": [],
   "source": [
    "# Инициализируем и обучим модель линейной регрессии\n",
    "lr_model = LinearRegression()\n",
    "lr_model.fit(X_train, y_train)\n",
    "\n",
    "# Прогнозирование на основе тестовых данных\n",
    "y_pred_lr = lr_model.predict(X_valid)\n",
    "\n",
    "# Оценка модели\n",
    "mse_lr = mean_squared_error(y_valid, y_pred_lr)\n",
    "rmse_lr = np.sqrt(mse_lr)\n",
    "\n",
    "print(\"Linear Regression - MSE:\", mse_lr)\n",
    "print(\"Linear Regression - RMSE:\", rmse_lr)"
   ]
  },
  {
   "cell_type": "markdown",
   "metadata": {},
   "source": [
    "<img src=\"https://emojigraph.org/media/apple/check-mark-button_2705.png\" align=left width=33, heigth=33>\n",
    "<div class=\"alert alert-success\">\n",
    "Есть линейная модель. И видно что она чудовищно переобучается. </div>"
   ]
  },
  {
   "cell_type": "markdown",
   "metadata": {
    "id": "hKx6X9x8gnf6"
   },
   "source": [
    "## Модель 3: Полносвязная нейронная сеть (с использованием PyTorch)"
   ]
  },
  {
   "cell_type": "code",
   "execution_count": null,
   "metadata": {
    "colab": {
     "base_uri": "https://localhost:8080/"
    },
    "id": "Y_Sejj0mgo47",
    "outputId": "8585a41b-4b8a-4e8f-c6a8-a3a57c64eaab"
   },
   "outputs": [],
   "source": [
    "# Определим модель нейронной сети с помощью PyTorch\n",
    "class NeuralNetwork(nn.Module):\n",
    "    def __init__(self, input_size):\n",
    "        super(NeuralNetwork, self).__init__()\n",
    "        self.fc1 = nn.Linear(input_size, 256)\n",
    "        self.fc2 = nn.Linear(256, 128)\n",
    "        self.fc3 = nn.Linear(128, 64)\n",
    "        self.fc4 = nn.Linear(64, 1)\n",
    "\n",
    "    def forward(self, x):\n",
    "        x = F.relu(self.fc1(x))\n",
    "        x = F.relu(self.fc2(x))\n",
    "        x = F.relu(self.fc3(x))\n",
    "        x = self.fc4(x)  # Linear output for regression\n",
    "        return x\n",
    "\n",
    "# Инициализируем модель\n",
    "input_size = X_train.shape[1]\n",
    "nn_model = NeuralNetwork(input_size)\n",
    "nn_model = nn_model.to(device)"
   ]
  },
  {
   "cell_type": "code",
   "execution_count": null,
   "metadata": {},
   "outputs": [],
   "source": [
    "# Определим оптимизатор и функцию потерь\n",
    "optimizer = optim.Adam(nn_model.parameters(), lr=0.0001)\n",
    "loss_fn = nn.MSELoss()\n",
    "\n",
    "# Преобразование массивов numpy в тензоры torch\n",
    "X_train_torch = torch.tensor(X_train).float().to(device)\n",
    "y_train_torch = torch.tensor(y_train).float().to(device)\n",
    "X_valid_torch = torch.tensor(X_valid).float().to(device)\n",
    "y_valid_torch = torch.tensor(y_valid).float().to(device)\n",
    "\n",
    "num_epochs = 100\n",
    "\n",
    "# Обучающий цикл\n",
    "for epoch in range(num_epochs):\n",
    "    nn_model.train()\n",
    "    optimizer.zero_grad()\n",
    "    outputs = nn_model(X_train_torch)\n",
    "    loss = loss_fn(outputs.squeeze(), y_train_torch)\n",
    "    loss.backward()\n",
    "    optimizer.step()\n",
    "\n",
    "    # Валидация\n",
    "    nn_model.eval()\n",
    "    with torch.no_grad():\n",
    "        valid_outputs = nn_model(X_valid_torch)\n",
    "        valid_loss = loss_fn(valid_outputs.squeeze(), y_valid_torch)\n",
    "\n",
    "    # Печать для каждой 10-й эпохи\n",
    "    if (epoch + 1) % 10 == 0:\n",
    "        print(f\"Epoch {epoch+1}, Loss: {loss.item()}, Validation Loss: {valid_loss.item()}\")"
   ]
  },
  {
   "cell_type": "code",
   "execution_count": null,
   "metadata": {},
   "outputs": [],
   "source": [
    "# Прогноз\n",
    "nn_model.eval()\n",
    "with torch.no_grad():\n",
    "    y_pred_nn = nn_model(X_valid_torch).cpu().numpy().flatten()\n",
    "\n",
    "# Оценка\n",
    "mse_nn = mean_squared_error(y_valid, y_pred_nn)\n",
    "rmse_nn = np.sqrt(mse_nn)\n",
    "\n",
    "print(\"Neural Network - MSE:\", mse_nn)\n",
    "print(\"Neural Network - RMSE:\", rmse_nn)"
   ]
  },
  {
   "cell_type": "markdown",
   "metadata": {
    "id": "UsqmgcQaiSjp"
   },
   "source": [
    "На основании предоставленных показателей производительности моделей «Dummy Regressor», «линейная регрессия» и «нейронная сеть» мы можем сделать несколько выводов:\n",
    "\n",
    "1. **Производительность Dummy Regressor**:\n",
    "    - **MSE**: 0,069477\n",
    "    - **RMSE**: 0,263585\n",
    "    - Эта модель служит базовой линией, просто предсказывая среднее значение зависимой переменной, наблюдаемой в обучающих данных. Здесь MSE и RMSE являются эталонами, по которым измеряются характеристики других моделей.\n",
    "\n",
    "2. **Производительность линейной регрессии**:\n",
    "    - **MSE**: 0,094267\n",
    "    - **RMSE**: 0,307029\n",
    "    - Линейная регрессия работает хуже, чем Dummy Regressor, о чем свидетельствуют более высокие значения MSE и RMSE. Это говорит о том, что простой линейный подход может оказаться недостаточным для выявления сложностей или закономерностей в данных.\n",
    "\n",
    "3. **Производительность нейронной сети**:\n",
    "    - **MSE**: 0,060443\n",
    "    - **RMSE**: 0,245851\n",
    "    - Нейронная сеть демонстрирует значительное улучшение по сравнению с моделями Dummy Regressor и линейной регрессии. Более низкие значения MSE и RMSE указывают на лучшую точность прогнозирования и эффективность модели в выявлении нелинейных связей в данных.\n",
    "\n",
    "### Общие выводы:\n",
    "\n",
    "- **Сложность модели**. Улучшенная производительность нейронной сети предполагает, что взаимосвязь между признаками и целевой переменной является нелинейной и сложной, что нейронная сеть способна лучше уловить по сравнению с линейной регрессией.\n",
    "\n",
    "- **Проблемы переобучения**. Несмотря на более высокую производительность нейронной сети, всегда существует опасность переобучения более сложными моделями, особенно при работе с многомерными данными. Важно убедиться, что модель хорошо обобщает невидимые данные, возможно, используя такие методы, как перекрестная проверка, регуляризация или dropout (в случае нейронных сетей).\n",
    "\n",
    "- **Дальнейшая оптимизация**: хотя нейронная сеть показала многообещающие результаты, дальнейшая настройка гиперпараметров (например, количества слоев, количества нейронов, скорости обучения и т. д.) или экспериментирование с различными архитектурами потенциально может дать еще лучшие результаты.\n",
    "\n",
    "- **Качество данных и признаки**. Качество и актуальность признаков играют решающую роль в производительности модели. Возможно, будет полезно вернуться к проектированию и выбору признаков, чтобы посмотреть, можно ли еще улучшить производительность модели.\n",
    "\n",
    "Таким образом, нейронная сеть кажется наиболее многообещающей моделью среди протестированных, предлагая лучшую производительность с точки зрения MSE и RMSE. Однако важно учитывать сложность модели и необходимость тщательной проверки для обеспечения надежных и обобщаемых результатов.\n",
    "\n",
    "***Однако этого может быть достаточно на данном экспериментальном этапе в соответствии с задачей PoC (Proof of Concept, Проверка концепции)!***"
   ]
  },
  {
   "cell_type": "markdown",
   "metadata": {},
   "source": [
    "<img src=\"https://emojigraph.org/media/apple/check-mark-button_2705.png\" align=left width=33, heigth=33>\n",
    "<div class=\"alert alert-success\">\n",
    "В целом по нейронке все ОК, но оставлю советы, куда бы я копал для улучшения метрики\n",
    "    \n",
    " - борьба с переобучением. Линейная регрессия показала, что на на наших данных модели могут переобучаться. Ты взял сложную модель, которая еще больше может быть склонной к переобучению. Чтобы модель научилась чему-то толковому может понадобиться больше чем 10 эпох, но тогда нужно позаоботиться о борьбе с переобучением.\n",
    "    \n",
    " - ты использовал дефолтный adam с lr 1e-3, но иногда возникает необходимость уменьшить/увеличить шаг обучения\n",
    " - по моему опыту 10 эпох это слишком мало, успешные модели обучались сотни и даже тысячи эпох, прежде чем научиться чему-то толковому\n",
    " - используй доступную тебе валидационную выборку, не нужно дополнительно терять 10% данных на validation_split \n",
    "    \n",
    "    .</div>"
   ]
  },
  {
   "cell_type": "markdown",
   "metadata": {
    "id": "Qp_681x-vCrL"
   },
   "source": [
    "# Тестирование модели и демонстрация ее работы"
   ]
  },
  {
   "cell_type": "markdown",
   "metadata": {},
   "source": [
    "<img src=\"https://upload.wikimedia.org/wikipedia/commons/thumb/8/81/Stop_sign.png/240px-Stop_sign.png\" align=left width=35, heigth=35>\n",
    "<div class=\"alert alert-danger\">\n",
    "Здесь я попрошу тебя немного переделать логику инференса.\n",
    "    \n",
    "Ты уже на финишной прямой курса и во всю ипользуешь функции. Поэтому я попрошу тебя оформить тестирование следующим образом: нужно написать функцию, способную искать изображение по тексту для одного изображения.\n",
    " \n",
    "  Что должна делать функция\n",
    "    \n",
    "   - Получать текст\n",
    "   - Возвращать картинку и метрику близости. \n",
    "   - Выдавать дисклеймер если запрос некорректный\n",
    "    \n",
    "А затем нужно 10 раз применить функцию к 10 случайным запросам.    \n",
    "    \n",
    "\n",
    "------------\n",
    "    \n",
    "Исходя из описанной мной логики векторизацию изображений оптимально выполнить заранее, а вот запрос лучше векторизовать \"на лету\".    \n",
    "\n",
    "\n",
    "</div>"
   ]
  },
  {
   "cell_type": "code",
   "execution_count": null,
   "metadata": {
    "colab": {
     "base_uri": "https://localhost:8080/"
    },
    "id": "J47F2ODabtj3",
    "outputId": "e3c65037-e383-4daa-c6bc-27e76d6b71e3"
   },
   "outputs": [],
   "source": [
    "file_path = os.path.join(DATA_PATH, 'test_queries.csv')\n",
    "\n",
    "# Попытка загрузить первые несколько строк для проверки данных\n",
    "try:\n",
    "    test_queries_df = pd.read_csv(file_path, delimiter='|', on_bad_lines='skip')\n",
    "    error_message = \"File read with specific delimiter and skipping bad lines.\"\n",
    "except Exception as e:\n",
    "    test_queries_df = None\n",
    "    error_message = str(e)\n",
    "\n",
    "test_queries_df.info()\n",
    "print()\n",
    "display(test_queries_df.head())"
   ]
  },
  {
   "cell_type": "code",
   "execution_count": null,
   "metadata": {
    "colab": {
     "base_uri": "https://localhost:8080/",
     "height": 206
    },
    "id": "NG8UY66hbxxT",
    "outputId": "6c6160fc-2def-4bd9-befa-ef0e0ec58799"
   },
   "outputs": [
    {
     "data": {
      "text/html": [
       "\n",
       "  <div id=\"df-64c8bc54-8289-4e63-806d-4c472e64c703\" class=\"colab-df-container\">\n",
       "    <div>\n",
       "<style scoped>\n",
       "    .dataframe tbody tr th:only-of-type {\n",
       "        vertical-align: middle;\n",
       "    }\n",
       "\n",
       "    .dataframe tbody tr th {\n",
       "        vertical-align: top;\n",
       "    }\n",
       "\n",
       "    .dataframe thead th {\n",
       "        text-align: right;\n",
       "    }\n",
       "</style>\n",
       "<table border=\"1\" class=\"dataframe\">\n",
       "  <thead>\n",
       "    <tr style=\"text-align: right;\">\n",
       "      <th></th>\n",
       "      <th>query_id</th>\n",
       "      <th>query_text</th>\n",
       "      <th>image</th>\n",
       "    </tr>\n",
       "  </thead>\n",
       "  <tbody>\n",
       "    <tr>\n",
       "      <th>0</th>\n",
       "      <td>1177994172_10d143cb8d.jpg#0</td>\n",
       "      <td>Two blonde boys , one in a camouflage shirt an...</td>\n",
       "      <td>1177994172_10d143cb8d.jpg</td>\n",
       "    </tr>\n",
       "    <tr>\n",
       "      <th>1</th>\n",
       "      <td>1177994172_10d143cb8d.jpg#1</td>\n",
       "      <td>Two boys are squirting water guns at each other .</td>\n",
       "      <td>1177994172_10d143cb8d.jpg</td>\n",
       "    </tr>\n",
       "    <tr>\n",
       "      <th>2</th>\n",
       "      <td>1177994172_10d143cb8d.jpg#2</td>\n",
       "      <td>Two boys spraying each other with water</td>\n",
       "      <td>1177994172_10d143cb8d.jpg</td>\n",
       "    </tr>\n",
       "    <tr>\n",
       "      <th>3</th>\n",
       "      <td>1177994172_10d143cb8d.jpg#3</td>\n",
       "      <td>Two children wearing jeans squirt water at eac...</td>\n",
       "      <td>1177994172_10d143cb8d.jpg</td>\n",
       "    </tr>\n",
       "    <tr>\n",
       "      <th>4</th>\n",
       "      <td>1177994172_10d143cb8d.jpg#4</td>\n",
       "      <td>Two young boys are squirting water at each oth...</td>\n",
       "      <td>1177994172_10d143cb8d.jpg</td>\n",
       "    </tr>\n",
       "  </tbody>\n",
       "</table>\n",
       "</div>\n",
       "    <div class=\"colab-df-buttons\">\n",
       "\n",
       "  <div class=\"colab-df-container\">\n",
       "    <button class=\"colab-df-convert\" onclick=\"convertToInteractive('df-64c8bc54-8289-4e63-806d-4c472e64c703')\"\n",
       "            title=\"Convert this dataframe to an interactive table.\"\n",
       "            style=\"display:none;\">\n",
       "\n",
       "  <svg xmlns=\"http://www.w3.org/2000/svg\" height=\"24px\" viewBox=\"0 -960 960 960\">\n",
       "    <path d=\"M120-120v-720h720v720H120Zm60-500h600v-160H180v160Zm220 220h160v-160H400v160Zm0 220h160v-160H400v160ZM180-400h160v-160H180v160Zm440 0h160v-160H620v160ZM180-180h160v-160H180v160Zm440 0h160v-160H620v160Z\"/>\n",
       "  </svg>\n",
       "    </button>\n",
       "\n",
       "  <style>\n",
       "    .colab-df-container {\n",
       "      display:flex;\n",
       "      gap: 12px;\n",
       "    }\n",
       "\n",
       "    .colab-df-convert {\n",
       "      background-color: #E8F0FE;\n",
       "      border: none;\n",
       "      border-radius: 50%;\n",
       "      cursor: pointer;\n",
       "      display: none;\n",
       "      fill: #1967D2;\n",
       "      height: 32px;\n",
       "      padding: 0 0 0 0;\n",
       "      width: 32px;\n",
       "    }\n",
       "\n",
       "    .colab-df-convert:hover {\n",
       "      background-color: #E2EBFA;\n",
       "      box-shadow: 0px 1px 2px rgba(60, 64, 67, 0.3), 0px 1px 3px 1px rgba(60, 64, 67, 0.15);\n",
       "      fill: #174EA6;\n",
       "    }\n",
       "\n",
       "    .colab-df-buttons div {\n",
       "      margin-bottom: 4px;\n",
       "    }\n",
       "\n",
       "    [theme=dark] .colab-df-convert {\n",
       "      background-color: #3B4455;\n",
       "      fill: #D2E3FC;\n",
       "    }\n",
       "\n",
       "    [theme=dark] .colab-df-convert:hover {\n",
       "      background-color: #434B5C;\n",
       "      box-shadow: 0px 1px 3px 1px rgba(0, 0, 0, 0.15);\n",
       "      filter: drop-shadow(0px 1px 2px rgba(0, 0, 0, 0.3));\n",
       "      fill: #FFFFFF;\n",
       "    }\n",
       "  </style>\n",
       "\n",
       "    <script>\n",
       "      const buttonEl =\n",
       "        document.querySelector('#df-64c8bc54-8289-4e63-806d-4c472e64c703 button.colab-df-convert');\n",
       "      buttonEl.style.display =\n",
       "        google.colab.kernel.accessAllowed ? 'block' : 'none';\n",
       "\n",
       "      async function convertToInteractive(key) {\n",
       "        const element = document.querySelector('#df-64c8bc54-8289-4e63-806d-4c472e64c703');\n",
       "        const dataTable =\n",
       "          await google.colab.kernel.invokeFunction('convertToInteractive',\n",
       "                                                    [key], {});\n",
       "        if (!dataTable) return;\n",
       "\n",
       "        const docLinkHtml = 'Like what you see? Visit the ' +\n",
       "          '<a target=\"_blank\" href=https://colab.research.google.com/notebooks/data_table.ipynb>data table notebook</a>'\n",
       "          + ' to learn more about interactive tables.';\n",
       "        element.innerHTML = '';\n",
       "        dataTable['output_type'] = 'display_data';\n",
       "        await google.colab.output.renderOutput(dataTable, element);\n",
       "        const docLink = document.createElement('div');\n",
       "        docLink.innerHTML = docLinkHtml;\n",
       "        element.appendChild(docLink);\n",
       "      }\n",
       "    </script>\n",
       "  </div>\n",
       "\n",
       "\n",
       "<div id=\"df-3377d6a0-7cb6-48da-9036-699baad91cf7\">\n",
       "  <button class=\"colab-df-quickchart\" onclick=\"quickchart('df-3377d6a0-7cb6-48da-9036-699baad91cf7')\"\n",
       "            title=\"Suggest charts\"\n",
       "            style=\"display:none;\">\n",
       "\n",
       "<svg xmlns=\"http://www.w3.org/2000/svg\" height=\"24px\"viewBox=\"0 0 24 24\"\n",
       "     width=\"24px\">\n",
       "    <g>\n",
       "        <path d=\"M19 3H5c-1.1 0-2 .9-2 2v14c0 1.1.9 2 2 2h14c1.1 0 2-.9 2-2V5c0-1.1-.9-2-2-2zM9 17H7v-7h2v7zm4 0h-2V7h2v10zm4 0h-2v-4h2v4z\"/>\n",
       "    </g>\n",
       "</svg>\n",
       "  </button>\n",
       "\n",
       "<style>\n",
       "  .colab-df-quickchart {\n",
       "      --bg-color: #E8F0FE;\n",
       "      --fill-color: #1967D2;\n",
       "      --hover-bg-color: #E2EBFA;\n",
       "      --hover-fill-color: #174EA6;\n",
       "      --disabled-fill-color: #AAA;\n",
       "      --disabled-bg-color: #DDD;\n",
       "  }\n",
       "\n",
       "  [theme=dark] .colab-df-quickchart {\n",
       "      --bg-color: #3B4455;\n",
       "      --fill-color: #D2E3FC;\n",
       "      --hover-bg-color: #434B5C;\n",
       "      --hover-fill-color: #FFFFFF;\n",
       "      --disabled-bg-color: #3B4455;\n",
       "      --disabled-fill-color: #666;\n",
       "  }\n",
       "\n",
       "  .colab-df-quickchart {\n",
       "    background-color: var(--bg-color);\n",
       "    border: none;\n",
       "    border-radius: 50%;\n",
       "    cursor: pointer;\n",
       "    display: none;\n",
       "    fill: var(--fill-color);\n",
       "    height: 32px;\n",
       "    padding: 0;\n",
       "    width: 32px;\n",
       "  }\n",
       "\n",
       "  .colab-df-quickchart:hover {\n",
       "    background-color: var(--hover-bg-color);\n",
       "    box-shadow: 0 1px 2px rgba(60, 64, 67, 0.3), 0 1px 3px 1px rgba(60, 64, 67, 0.15);\n",
       "    fill: var(--button-hover-fill-color);\n",
       "  }\n",
       "\n",
       "  .colab-df-quickchart-complete:disabled,\n",
       "  .colab-df-quickchart-complete:disabled:hover {\n",
       "    background-color: var(--disabled-bg-color);\n",
       "    fill: var(--disabled-fill-color);\n",
       "    box-shadow: none;\n",
       "  }\n",
       "\n",
       "  .colab-df-spinner {\n",
       "    border: 2px solid var(--fill-color);\n",
       "    border-color: transparent;\n",
       "    border-bottom-color: var(--fill-color);\n",
       "    animation:\n",
       "      spin 1s steps(1) infinite;\n",
       "  }\n",
       "\n",
       "  @keyframes spin {\n",
       "    0% {\n",
       "      border-color: transparent;\n",
       "      border-bottom-color: var(--fill-color);\n",
       "      border-left-color: var(--fill-color);\n",
       "    }\n",
       "    20% {\n",
       "      border-color: transparent;\n",
       "      border-left-color: var(--fill-color);\n",
       "      border-top-color: var(--fill-color);\n",
       "    }\n",
       "    30% {\n",
       "      border-color: transparent;\n",
       "      border-left-color: var(--fill-color);\n",
       "      border-top-color: var(--fill-color);\n",
       "      border-right-color: var(--fill-color);\n",
       "    }\n",
       "    40% {\n",
       "      border-color: transparent;\n",
       "      border-right-color: var(--fill-color);\n",
       "      border-top-color: var(--fill-color);\n",
       "    }\n",
       "    60% {\n",
       "      border-color: transparent;\n",
       "      border-right-color: var(--fill-color);\n",
       "    }\n",
       "    80% {\n",
       "      border-color: transparent;\n",
       "      border-right-color: var(--fill-color);\n",
       "      border-bottom-color: var(--fill-color);\n",
       "    }\n",
       "    90% {\n",
       "      border-color: transparent;\n",
       "      border-bottom-color: var(--fill-color);\n",
       "    }\n",
       "  }\n",
       "</style>\n",
       "\n",
       "  <script>\n",
       "    async function quickchart(key) {\n",
       "      const quickchartButtonEl =\n",
       "        document.querySelector('#' + key + ' button');\n",
       "      quickchartButtonEl.disabled = true;  // To prevent multiple clicks.\n",
       "      quickchartButtonEl.classList.add('colab-df-spinner');\n",
       "      try {\n",
       "        const charts = await google.colab.kernel.invokeFunction(\n",
       "            'suggestCharts', [key], {});\n",
       "      } catch (error) {\n",
       "        console.error('Error during call to suggestCharts:', error);\n",
       "      }\n",
       "      quickchartButtonEl.classList.remove('colab-df-spinner');\n",
       "      quickchartButtonEl.classList.add('colab-df-quickchart-complete');\n",
       "    }\n",
       "    (() => {\n",
       "      let quickchartButtonEl =\n",
       "        document.querySelector('#df-3377d6a0-7cb6-48da-9036-699baad91cf7 button');\n",
       "      quickchartButtonEl.style.display =\n",
       "        google.colab.kernel.accessAllowed ? 'block' : 'none';\n",
       "    })();\n",
       "  </script>\n",
       "</div>\n",
       "\n",
       "    </div>\n",
       "  </div>\n"
      ],
      "text/plain": [
       "                      query_id  \\\n",
       "0  1177994172_10d143cb8d.jpg#0   \n",
       "1  1177994172_10d143cb8d.jpg#1   \n",
       "2  1177994172_10d143cb8d.jpg#2   \n",
       "3  1177994172_10d143cb8d.jpg#3   \n",
       "4  1177994172_10d143cb8d.jpg#4   \n",
       "\n",
       "                                          query_text  \\\n",
       "0  Two blonde boys , one in a camouflage shirt an...   \n",
       "1  Two boys are squirting water guns at each other .   \n",
       "2            Two boys spraying each other with water   \n",
       "3  Two children wearing jeans squirt water at eac...   \n",
       "4  Two young boys are squirting water at each oth...   \n",
       "\n",
       "                       image  \n",
       "0  1177994172_10d143cb8d.jpg  \n",
       "1  1177994172_10d143cb8d.jpg  \n",
       "2  1177994172_10d143cb8d.jpg  \n",
       "3  1177994172_10d143cb8d.jpg  \n",
       "4  1177994172_10d143cb8d.jpg  "
      ]
     },
     "execution_count": 37,
     "metadata": {},
     "output_type": "execute_result"
    }
   ],
   "source": [
    "test_queries_df = test_queries_df.drop('Unnamed: 0', axis=1)\n",
    "test_queries_df.head()"
   ]
  },
  {
   "cell_type": "markdown",
   "metadata": {
    "id": "dd04d000"
   },
   "source": [
    "<img src=\"https://upload.wikimedia.org/wikipedia/commons/b/ba/Warning_sign_4.0.png\" align=left width=44, heigth=33>\n",
    "<div class=\"alert alert-warning\">\n",
    "Векторизацию описаний не стоит делать заранее\n",
    "  \n",
    "</div>"
   ]
  },
  {
   "cell_type": "code",
   "execution_count": null,
   "metadata": {
    "colab": {
     "base_uri": "https://localhost:8080/"
    },
    "id": "WTSD8LqBQzZ5",
    "outputId": "905d4473-ee6d-4903-c55c-07569d032841",
    "scrolled": true
   },
   "outputs": [
    {
     "name": "stdout",
     "output_type": "stream",
     "text": [
      "<class 'pandas.core.frame.DataFrame'>\n",
      "RangeIndex: 500 entries, 0 to 499\n",
      "Data columns (total 4 columns):\n",
      " #   Column       Non-Null Count  Dtype \n",
      "---  ------       --------------  ----- \n",
      " 0   query_id     500 non-null    object\n",
      " 1   query_text   500 non-null    object\n",
      " 2   image        500 non-null    object\n",
      " 3   bert_vector  500 non-null    object\n",
      "dtypes: object(4)\n",
      "memory usage: 15.8+ KB\n"
     ]
    }
   ],
   "source": [
    "test_queries_df.info()"
   ]
  },
  {
   "cell_type": "code",
   "execution_count": null,
   "metadata": {
    "colab": {
     "base_uri": "https://localhost:8080/"
    },
    "id": "LdBr3Qoe8vwY",
    "outputId": "ba494577-1d59-48ae-b83d-dddb58becd89"
   },
   "outputs": [],
   "source": [
    "test_images_dir = os.path.join(DATA_PATH, 'test_images')\n",
    "\n",
    "image_data = []\n",
    "for img_name in os.listdir(test_images_dir):\n",
    "    # Пропускаем любой файл, который не заканчивается на .jpg.\n",
    "    if not img_name.lower().endswith('.jpg'):\n",
    "        continue\n",
    "    \n",
    "    img_path = os.path.join(test_images_dir, img_name)\n",
    "    if os.path.isfile(img_path):\n",
    "        img_vector = resnet50_encode(img_path)\n",
    "        image_data.append({'image': img_name, 'resnet50_vector': img_vector})\n",
    "\n",
    "# Преобразование списка словарей в DataFrame\n",
    "test_images_df = pd.DataFrame(image_data)\n",
    "display(test_images_df.head())\n",
    "print()\n",
    "test_images_df.info()"
   ]
  },
  {
   "cell_type": "code",
   "execution_count": null,
   "metadata": {
    "colab": {
     "base_uri": "https://localhost:8080/"
    },
    "id": "MwIeN_4bkZZV",
    "outputId": "3e3d2a0b-b4ec-4cd2-a699-08dd2928d8e7"
   },
   "outputs": [
    {
     "name": "stdout",
     "output_type": "stream",
     "text": [
      "<class 'pandas.core.frame.DataFrame'>\n",
      "Int64Index: 500 entries, 0 to 499\n",
      "Data columns (total 5 columns):\n",
      " #   Column           Non-Null Count  Dtype \n",
      "---  ------           --------------  ----- \n",
      " 0   query_id         500 non-null    object\n",
      " 1   query_text       500 non-null    object\n",
      " 2   image            500 non-null    object\n",
      " 3   bert_vector      500 non-null    object\n",
      " 4   resnet50_vector  500 non-null    object\n",
      "dtypes: object(5)\n",
      "memory usage: 23.4+ KB\n",
      "None\n"
     ]
    }
   ],
   "source": [
    "# Объединение двух датафреймов по столбцу «image»\n",
    "test_df = test_queries_df.merge(test_images_df, on='image', how='inner')\n",
    "test_df.info()\n",
    "print()\n",
    "display(test_df.head())"
   ]
  },
  {
   "cell_type": "code",
   "execution_count": null,
   "metadata": {},
   "outputs": [],
   "source": [
    "def find_similar_image(query, test_df, nn_model, bert_model, tokenizer, resnet_model, device):\n",
    "    # Векторизация текста запроса с помощью BERT\n",
    "    query_vector = bert_encode(query, bert_model, tokenizer, device)\n",
    "\n",
    "    max_score = -1\n",
    "    best_image = None\n",
    "\n",
    "    # Итерация через каждый вектор изображения в наборе тестовых данных.\n",
    "    for index, row in test_df.iterrows():\n",
    "        # Объединим вектор запроса с вектором изображения\n",
    "        combined_vector = np.hstack((query_vector, row['resnet50_vector']))\n",
    "        combined_vector_tensor = torch.tensor(combined_vector).float().unsqueeze(0).to(device)\n",
    "\n",
    "        # Прямой проход по модели\n",
    "        nn_model.eval()\n",
    "        with torch.no_grad():\n",
    "            prediction = nn_model(combined_vector_tensor).cpu().numpy().flatten()[0]\n",
    "\n",
    "        # Обновим лучшее изображение, если текущий балл выше.\n",
    "        if prediction > max_score:\n",
    "            max_score = prediction\n",
    "            best_image = row['image']\n",
    "\n",
    "    # Отображение изображения или дисклеймера\n",
    "    if best_image is not None:\n",
    "        img_path = os.path.join(test_images_dir, best_image)\n",
    "        img = Image.open(img_path)\n",
    "        plt.imshow(img)\n",
    "        plt.show()\n",
    "        return best_image, max_score\n",
    "    else:\n",
    "        print(\"No best image found or the request is incorrect.\")\n",
    "        return None, None\n",
    "\n",
    "# Применим функцию к 10 запросам\n",
    "random_queries = [\"running boy in green shorts\", \n",
    "                  \"boxing\",\n",
    "                  \"children\",\n",
    "                  \"playing a game\",\n",
    "                  \"girl with glass on the mountain\",\n",
    "                  \"ice\",\n",
    "                  \"sit on the beach\",\n",
    "                  \"take pictures of sights\",\n",
    "                  \"crowded fair\",\n",
    "                  \"swim in the fountain\"]\n",
    "for query in random_queries:\n",
    "    image, score = find_similar_image(query, test_df, nn_model, model, tokenizer, resnet_model, device)\n",
    "    print(f\"Query: {query}, Image: {image}, Score: {score}\")"
   ]
  },
  {
   "cell_type": "markdown",
   "metadata": {},
   "source": [
    "<img src=\"https://upload.wikimedia.org/wikipedia/commons/thumb/8/81/Stop_sign.png/240px-Stop_sign.png\" align=left width=35, heigth=35>\n",
    "<div class=\"alert alert-danger\">\n",
    "Посмотри внимательно на функцию. Она НИКАК не использует полученный запрос (`query`), поэтому и просто  выдает, одну пару, для которой соответствие между изображением и описанием максимально.  </div>"
   ]
  },
  {
   "cell_type": "markdown",
   "metadata": {
    "id": "dd04d000"
   },
   "source": [
    "<img src=\"https://upload.wikimedia.org/wikipedia/commons/b/ba/Warning_sign_4.0.png\" align=left width=44, heigth=33>\n",
    "<div class=\"alert alert-warning\">\n",
    "Во первых, пожалуйста убери следы предсказаний (которых ты делаешь аж 500 штук при каждом запуске функции). Сделать это можно с помощью аргумента verbose метода predict.\n",
    "    \n",
    "Во вторых, не стоит 100/500 раз получать предсказание для каждой пары, лучше один раз запустить модель для 100 пар и получить оценку за один проход.    \n",
    "  \n",
    "</div>"
   ]
  },
  {
   "cell_type": "code",
   "execution_count": null,
   "metadata": {
    "id": "_xn2dSPIVBUc"
   },
   "outputs": [],
   "source": []
  }
 ],
 "metadata": {
  "accelerator": "GPU",
  "colab": {
   "gpuType": "T4",
   "provenance": []
  },
  "kernelspec": {
   "display_name": "Python 3",
   "language": "python",
   "name": "python3"
  },
  "language_info": {
   "codemirror_mode": {
    "name": "ipython",
    "version": 3
   },
   "file_extension": ".py",
   "mimetype": "text/x-python",
   "name": "python",
   "nbconvert_exporter": "python",
   "pygments_lexer": "ipython3",
   "version": "3.7.3"
  },
  "toc": {
   "base_numbering": 1,
   "nav_menu": {},
   "number_sections": true,
   "sideBar": true,
   "skip_h1_title": false,
   "title_cell": "Table of Contents",
   "title_sidebar": "Contents",
   "toc_cell": false,
   "toc_position": {},
   "toc_section_display": true,
   "toc_window_display": false
  },
  "varInspector": {
   "cols": {
    "lenName": 16,
    "lenType": 16,
    "lenVar": 40
   },
   "kernels_config": {
    "python": {
     "delete_cmd_postfix": "",
     "delete_cmd_prefix": "del ",
     "library": "var_list.py",
     "varRefreshCmd": "print(var_dic_list())"
    },
    "r": {
     "delete_cmd_postfix": ") ",
     "delete_cmd_prefix": "rm(",
     "library": "var_list.r",
     "varRefreshCmd": "cat(var_dic_list()) "
    }
   },
   "types_to_exclude": [
    "module",
    "function",
    "builtin_function_or_method",
    "instance",
    "_Feature"
   ],
   "window_display": false
  },
  "widgets": {
   "application/vnd.jupyter.widget-state+json": {
    "00304d8e28634299ae8d1d7948bb0b72": {
     "model_module": "@jupyter-widgets/base",
     "model_module_version": "1.2.0",
     "model_name": "LayoutModel",
     "state": {
      "_model_module": "@jupyter-widgets/base",
      "_model_module_version": "1.2.0",
      "_model_name": "LayoutModel",
      "_view_count": null,
      "_view_module": "@jupyter-widgets/base",
      "_view_module_version": "1.2.0",
      "_view_name": "LayoutView",
      "align_content": null,
      "align_items": null,
      "align_self": null,
      "border": null,
      "bottom": null,
      "display": null,
      "flex": null,
      "flex_flow": null,
      "grid_area": null,
      "grid_auto_columns": null,
      "grid_auto_flow": null,
      "grid_auto_rows": null,
      "grid_column": null,
      "grid_gap": null,
      "grid_row": null,
      "grid_template_areas": null,
      "grid_template_columns": null,
      "grid_template_rows": null,
      "height": null,
      "justify_content": null,
      "justify_items": null,
      "left": null,
      "margin": null,
      "max_height": null,
      "max_width": null,
      "min_height": null,
      "min_width": null,
      "object_fit": null,
      "object_position": null,
      "order": null,
      "overflow": null,
      "overflow_x": null,
      "overflow_y": null,
      "padding": null,
      "right": null,
      "top": null,
      "visibility": null,
      "width": null
     }
    },
    "0149e4eb92ff491b9f0f0c0be4cbd3f5": {
     "model_module": "@jupyter-widgets/controls",
     "model_module_version": "1.5.0",
     "model_name": "DescriptionStyleModel",
     "state": {
      "_model_module": "@jupyter-widgets/controls",
      "_model_module_version": "1.5.0",
      "_model_name": "DescriptionStyleModel",
      "_view_count": null,
      "_view_module": "@jupyter-widgets/base",
      "_view_module_version": "1.2.0",
      "_view_name": "StyleView",
      "description_width": ""
     }
    },
    "04486af8e7494f33942cf4a29376f281": {
     "model_module": "@jupyter-widgets/base",
     "model_module_version": "1.2.0",
     "model_name": "LayoutModel",
     "state": {
      "_model_module": "@jupyter-widgets/base",
      "_model_module_version": "1.2.0",
      "_model_name": "LayoutModel",
      "_view_count": null,
      "_view_module": "@jupyter-widgets/base",
      "_view_module_version": "1.2.0",
      "_view_name": "LayoutView",
      "align_content": null,
      "align_items": null,
      "align_self": null,
      "border": null,
      "bottom": null,
      "display": null,
      "flex": null,
      "flex_flow": null,
      "grid_area": null,
      "grid_auto_columns": null,
      "grid_auto_flow": null,
      "grid_auto_rows": null,
      "grid_column": null,
      "grid_gap": null,
      "grid_row": null,
      "grid_template_areas": null,
      "grid_template_columns": null,
      "grid_template_rows": null,
      "height": null,
      "justify_content": null,
      "justify_items": null,
      "left": null,
      "margin": null,
      "max_height": null,
      "max_width": null,
      "min_height": null,
      "min_width": null,
      "object_fit": null,
      "object_position": null,
      "order": null,
      "overflow": null,
      "overflow_x": null,
      "overflow_y": null,
      "padding": null,
      "right": null,
      "top": null,
      "visibility": null,
      "width": null
     }
    },
    "061c3da766e74b10897d640287a417d5": {
     "model_module": "@jupyter-widgets/controls",
     "model_module_version": "1.5.0",
     "model_name": "DescriptionStyleModel",
     "state": {
      "_model_module": "@jupyter-widgets/controls",
      "_model_module_version": "1.5.0",
      "_model_name": "DescriptionStyleModel",
      "_view_count": null,
      "_view_module": "@jupyter-widgets/base",
      "_view_module_version": "1.2.0",
      "_view_name": "StyleView",
      "description_width": ""
     }
    },
    "09aad9c915874f6fa25f7f74ab29af8d": {
     "model_module": "@jupyter-widgets/controls",
     "model_module_version": "1.5.0",
     "model_name": "DescriptionStyleModel",
     "state": {
      "_model_module": "@jupyter-widgets/controls",
      "_model_module_version": "1.5.0",
      "_model_name": "DescriptionStyleModel",
      "_view_count": null,
      "_view_module": "@jupyter-widgets/base",
      "_view_module_version": "1.2.0",
      "_view_name": "StyleView",
      "description_width": ""
     }
    },
    "0e4cf94228544d85b6cfdcc97089eeff": {
     "model_module": "@jupyter-widgets/controls",
     "model_module_version": "1.5.0",
     "model_name": "FloatProgressModel",
     "state": {
      "_dom_classes": [],
      "_model_module": "@jupyter-widgets/controls",
      "_model_module_version": "1.5.0",
      "_model_name": "FloatProgressModel",
      "_view_count": null,
      "_view_module": "@jupyter-widgets/controls",
      "_view_module_version": "1.5.0",
      "_view_name": "ProgressView",
      "bar_style": "success",
      "description": "",
      "description_tooltip": null,
      "layout": "IPY_MODEL_c777488975d6480cb8e9e947896c0539",
      "max": 28,
      "min": 0,
      "orientation": "horizontal",
      "style": "IPY_MODEL_6626ac6f78024a10b4b420308ab41126",
      "value": 28
     }
    },
    "0ec64f7ef3e342268f1ee87701508e2b": {
     "model_module": "@jupyter-widgets/base",
     "model_module_version": "1.2.0",
     "model_name": "LayoutModel",
     "state": {
      "_model_module": "@jupyter-widgets/base",
      "_model_module_version": "1.2.0",
      "_model_name": "LayoutModel",
      "_view_count": null,
      "_view_module": "@jupyter-widgets/base",
      "_view_module_version": "1.2.0",
      "_view_name": "LayoutView",
      "align_content": null,
      "align_items": null,
      "align_self": null,
      "border": null,
      "bottom": null,
      "display": null,
      "flex": null,
      "flex_flow": null,
      "grid_area": null,
      "grid_auto_columns": null,
      "grid_auto_flow": null,
      "grid_auto_rows": null,
      "grid_column": null,
      "grid_gap": null,
      "grid_row": null,
      "grid_template_areas": null,
      "grid_template_columns": null,
      "grid_template_rows": null,
      "height": null,
      "justify_content": null,
      "justify_items": null,
      "left": null,
      "margin": null,
      "max_height": null,
      "max_width": null,
      "min_height": null,
      "min_width": null,
      "object_fit": null,
      "object_position": null,
      "order": null,
      "overflow": null,
      "overflow_x": null,
      "overflow_y": null,
      "padding": null,
      "right": null,
      "top": null,
      "visibility": null,
      "width": null
     }
    },
    "188df505b20b42edacdb2bf7f3da1314": {
     "model_module": "@jupyter-widgets/controls",
     "model_module_version": "1.5.0",
     "model_name": "FloatProgressModel",
     "state": {
      "_dom_classes": [],
      "_model_module": "@jupyter-widgets/controls",
      "_model_module_version": "1.5.0",
      "_model_name": "FloatProgressModel",
      "_view_count": null,
      "_view_module": "@jupyter-widgets/controls",
      "_view_module_version": "1.5.0",
      "_view_name": "ProgressView",
      "bar_style": "success",
      "description": "",
      "description_tooltip": null,
      "layout": "IPY_MODEL_e88d6b2236a64ab990b90cda590baae1",
      "max": 570,
      "min": 0,
      "orientation": "horizontal",
      "style": "IPY_MODEL_755c836140cb4a38a092ca4390cda3df",
      "value": 570
     }
    },
    "1b1502118e284d8fa1dd69d807aa09cc": {
     "model_module": "@jupyter-widgets/base",
     "model_module_version": "1.2.0",
     "model_name": "LayoutModel",
     "state": {
      "_model_module": "@jupyter-widgets/base",
      "_model_module_version": "1.2.0",
      "_model_name": "LayoutModel",
      "_view_count": null,
      "_view_module": "@jupyter-widgets/base",
      "_view_module_version": "1.2.0",
      "_view_name": "LayoutView",
      "align_content": null,
      "align_items": null,
      "align_self": null,
      "border": null,
      "bottom": null,
      "display": null,
      "flex": null,
      "flex_flow": null,
      "grid_area": null,
      "grid_auto_columns": null,
      "grid_auto_flow": null,
      "grid_auto_rows": null,
      "grid_column": null,
      "grid_gap": null,
      "grid_row": null,
      "grid_template_areas": null,
      "grid_template_columns": null,
      "grid_template_rows": null,
      "height": null,
      "justify_content": null,
      "justify_items": null,
      "left": null,
      "margin": null,
      "max_height": null,
      "max_width": null,
      "min_height": null,
      "min_width": null,
      "object_fit": null,
      "object_position": null,
      "order": null,
      "overflow": null,
      "overflow_x": null,
      "overflow_y": null,
      "padding": null,
      "right": null,
      "top": null,
      "visibility": null,
      "width": null
     }
    },
    "1d0f4636f883485ba277ba8fe28adfa9": {
     "model_module": "@jupyter-widgets/controls",
     "model_module_version": "1.5.0",
     "model_name": "ProgressStyleModel",
     "state": {
      "_model_module": "@jupyter-widgets/controls",
      "_model_module_version": "1.5.0",
      "_model_name": "ProgressStyleModel",
      "_view_count": null,
      "_view_module": "@jupyter-widgets/base",
      "_view_module_version": "1.2.0",
      "_view_name": "StyleView",
      "bar_color": null,
      "description_width": ""
     }
    },
    "201f7ff8e15441dc8860114870efec30": {
     "model_module": "@jupyter-widgets/controls",
     "model_module_version": "1.5.0",
     "model_name": "DescriptionStyleModel",
     "state": {
      "_model_module": "@jupyter-widgets/controls",
      "_model_module_version": "1.5.0",
      "_model_name": "DescriptionStyleModel",
      "_view_count": null,
      "_view_module": "@jupyter-widgets/base",
      "_view_module_version": "1.2.0",
      "_view_name": "StyleView",
      "description_width": ""
     }
    },
    "21c5f85b410e402985ac5ac655361371": {
     "model_module": "@jupyter-widgets/controls",
     "model_module_version": "1.5.0",
     "model_name": "HTMLModel",
     "state": {
      "_dom_classes": [],
      "_model_module": "@jupyter-widgets/controls",
      "_model_module_version": "1.5.0",
      "_model_name": "HTMLModel",
      "_view_count": null,
      "_view_module": "@jupyter-widgets/controls",
      "_view_module_version": "1.5.0",
      "_view_name": "HTMLView",
      "description": "",
      "description_tooltip": null,
      "layout": "IPY_MODEL_a5378d3c840b482ead4be75dc0b2439d",
      "placeholder": "​",
      "style": "IPY_MODEL_3bfbd715c46c46878b24ac5570acccef",
      "value": "config.json: 100%"
     }
    },
    "255f6a4192884ab2bef9550c7c49d68b": {
     "model_module": "@jupyter-widgets/controls",
     "model_module_version": "1.5.0",
     "model_name": "DescriptionStyleModel",
     "state": {
      "_model_module": "@jupyter-widgets/controls",
      "_model_module_version": "1.5.0",
      "_model_name": "DescriptionStyleModel",
      "_view_count": null,
      "_view_module": "@jupyter-widgets/base",
      "_view_module_version": "1.2.0",
      "_view_name": "StyleView",
      "description_width": ""
     }
    },
    "2695f72255844f408e32c929e36a592c": {
     "model_module": "@jupyter-widgets/controls",
     "model_module_version": "1.5.0",
     "model_name": "DescriptionStyleModel",
     "state": {
      "_model_module": "@jupyter-widgets/controls",
      "_model_module_version": "1.5.0",
      "_model_name": "DescriptionStyleModel",
      "_view_count": null,
      "_view_module": "@jupyter-widgets/base",
      "_view_module_version": "1.2.0",
      "_view_name": "StyleView",
      "description_width": ""
     }
    },
    "32541333b5af4c3c971249508a141316": {
     "model_module": "@jupyter-widgets/controls",
     "model_module_version": "1.5.0",
     "model_name": "HBoxModel",
     "state": {
      "_dom_classes": [],
      "_model_module": "@jupyter-widgets/controls",
      "_model_module_version": "1.5.0",
      "_model_name": "HBoxModel",
      "_view_count": null,
      "_view_module": "@jupyter-widgets/controls",
      "_view_module_version": "1.5.0",
      "_view_name": "HBoxView",
      "box_style": "",
      "children": [
       "IPY_MODEL_f2c3bf0327b84df2b7e9298d1e68a0dd",
       "IPY_MODEL_ac8cd7dd7d95414e862bb6fd395aa728",
       "IPY_MODEL_4ed6cba046ae4a178dede6fa6a74c94f"
      ],
      "layout": "IPY_MODEL_00304d8e28634299ae8d1d7948bb0b72"
     }
    },
    "3a9d7e72cbf94cdeb94fe8d4893c1922": {
     "model_module": "@jupyter-widgets/controls",
     "model_module_version": "1.5.0",
     "model_name": "HTMLModel",
     "state": {
      "_dom_classes": [],
      "_model_module": "@jupyter-widgets/controls",
      "_model_module_version": "1.5.0",
      "_model_name": "HTMLModel",
      "_view_count": null,
      "_view_module": "@jupyter-widgets/controls",
      "_view_module_version": "1.5.0",
      "_view_name": "HTMLView",
      "description": "",
      "description_tooltip": null,
      "layout": "IPY_MODEL_ccf85d4011dd4d9abbc106a1cb8fa092",
      "placeholder": "​",
      "style": "IPY_MODEL_255f6a4192884ab2bef9550c7c49d68b",
      "value": "tokenizer.json: 100%"
     }
    },
    "3bfbd715c46c46878b24ac5570acccef": {
     "model_module": "@jupyter-widgets/controls",
     "model_module_version": "1.5.0",
     "model_name": "DescriptionStyleModel",
     "state": {
      "_model_module": "@jupyter-widgets/controls",
      "_model_module_version": "1.5.0",
      "_model_name": "DescriptionStyleModel",
      "_view_count": null,
      "_view_module": "@jupyter-widgets/base",
      "_view_module_version": "1.2.0",
      "_view_name": "StyleView",
      "description_width": ""
     }
    },
    "42e7a6a4032149e6a60a2b5ce69fe0b7": {
     "model_module": "@jupyter-widgets/base",
     "model_module_version": "1.2.0",
     "model_name": "LayoutModel",
     "state": {
      "_model_module": "@jupyter-widgets/base",
      "_model_module_version": "1.2.0",
      "_model_name": "LayoutModel",
      "_view_count": null,
      "_view_module": "@jupyter-widgets/base",
      "_view_module_version": "1.2.0",
      "_view_name": "LayoutView",
      "align_content": null,
      "align_items": null,
      "align_self": null,
      "border": null,
      "bottom": null,
      "display": null,
      "flex": null,
      "flex_flow": null,
      "grid_area": null,
      "grid_auto_columns": null,
      "grid_auto_flow": null,
      "grid_auto_rows": null,
      "grid_column": null,
      "grid_gap": null,
      "grid_row": null,
      "grid_template_areas": null,
      "grid_template_columns": null,
      "grid_template_rows": null,
      "height": null,
      "justify_content": null,
      "justify_items": null,
      "left": null,
      "margin": null,
      "max_height": null,
      "max_width": null,
      "min_height": null,
      "min_width": null,
      "object_fit": null,
      "object_position": null,
      "order": null,
      "overflow": null,
      "overflow_x": null,
      "overflow_y": null,
      "padding": null,
      "right": null,
      "top": null,
      "visibility": null,
      "width": null
     }
    },
    "4408059af597451183b5230a6f087eb0": {
     "model_module": "@jupyter-widgets/base",
     "model_module_version": "1.2.0",
     "model_name": "LayoutModel",
     "state": {
      "_model_module": "@jupyter-widgets/base",
      "_model_module_version": "1.2.0",
      "_model_name": "LayoutModel",
      "_view_count": null,
      "_view_module": "@jupyter-widgets/base",
      "_view_module_version": "1.2.0",
      "_view_name": "LayoutView",
      "align_content": null,
      "align_items": null,
      "align_self": null,
      "border": null,
      "bottom": null,
      "display": null,
      "flex": null,
      "flex_flow": null,
      "grid_area": null,
      "grid_auto_columns": null,
      "grid_auto_flow": null,
      "grid_auto_rows": null,
      "grid_column": null,
      "grid_gap": null,
      "grid_row": null,
      "grid_template_areas": null,
      "grid_template_columns": null,
      "grid_template_rows": null,
      "height": null,
      "justify_content": null,
      "justify_items": null,
      "left": null,
      "margin": null,
      "max_height": null,
      "max_width": null,
      "min_height": null,
      "min_width": null,
      "object_fit": null,
      "object_position": null,
      "order": null,
      "overflow": null,
      "overflow_x": null,
      "overflow_y": null,
      "padding": null,
      "right": null,
      "top": null,
      "visibility": null,
      "width": null
     }
    },
    "45d925d5e8e441e0a4422c28559360b1": {
     "model_module": "@jupyter-widgets/controls",
     "model_module_version": "1.5.0",
     "model_name": "ProgressStyleModel",
     "state": {
      "_model_module": "@jupyter-widgets/controls",
      "_model_module_version": "1.5.0",
      "_model_name": "ProgressStyleModel",
      "_view_count": null,
      "_view_module": "@jupyter-widgets/base",
      "_view_module_version": "1.2.0",
      "_view_name": "StyleView",
      "bar_color": null,
      "description_width": ""
     }
    },
    "4d2664f6538e40e384879dece57fea41": {
     "model_module": "@jupyter-widgets/controls",
     "model_module_version": "1.5.0",
     "model_name": "HBoxModel",
     "state": {
      "_dom_classes": [],
      "_model_module": "@jupyter-widgets/controls",
      "_model_module_version": "1.5.0",
      "_model_name": "HBoxModel",
      "_view_count": null,
      "_view_module": "@jupyter-widgets/controls",
      "_view_module_version": "1.5.0",
      "_view_name": "HBoxView",
      "box_style": "",
      "children": [
       "IPY_MODEL_3a9d7e72cbf94cdeb94fe8d4893c1922",
       "IPY_MODEL_67f5a4cd088a4c20803e1a0db18655fd",
       "IPY_MODEL_66e2a8dfc9c646a6824816a923548d60"
      ],
      "layout": "IPY_MODEL_c36e2c608aac4d419af750539d9a0311"
     }
    },
    "4ed6cba046ae4a178dede6fa6a74c94f": {
     "model_module": "@jupyter-widgets/controls",
     "model_module_version": "1.5.0",
     "model_name": "HTMLModel",
     "state": {
      "_dom_classes": [],
      "_model_module": "@jupyter-widgets/controls",
      "_model_module_version": "1.5.0",
      "_model_name": "HTMLModel",
      "_view_count": null,
      "_view_module": "@jupyter-widgets/controls",
      "_view_module_version": "1.5.0",
      "_view_name": "HTMLView",
      "description": "",
      "description_tooltip": null,
      "layout": "IPY_MODEL_9cbcb502a5a8467ebd984fc614d44c80",
      "placeholder": "​",
      "style": "IPY_MODEL_8b022ed73d024f9cb88fc60a608102ef",
      "value": " 232k/232k [00:00&lt;00:00, 3.06MB/s]"
     }
    },
    "609a3d982a5840bf9853183b24133b9a": {
     "model_module": "@jupyter-widgets/controls",
     "model_module_version": "1.5.0",
     "model_name": "HTMLModel",
     "state": {
      "_dom_classes": [],
      "_model_module": "@jupyter-widgets/controls",
      "_model_module_version": "1.5.0",
      "_model_name": "HTMLModel",
      "_view_count": null,
      "_view_module": "@jupyter-widgets/controls",
      "_view_module_version": "1.5.0",
      "_view_name": "HTMLView",
      "description": "",
      "description_tooltip": null,
      "layout": "IPY_MODEL_0ec64f7ef3e342268f1ee87701508e2b",
      "placeholder": "​",
      "style": "IPY_MODEL_2695f72255844f408e32c929e36a592c",
      "value": "model.safetensors: 100%"
     }
    },
    "60ca49789680492ebf7f0693ef55cff8": {
     "model_module": "@jupyter-widgets/controls",
     "model_module_version": "1.5.0",
     "model_name": "FloatProgressModel",
     "state": {
      "_dom_classes": [],
      "_model_module": "@jupyter-widgets/controls",
      "_model_module_version": "1.5.0",
      "_model_name": "FloatProgressModel",
      "_view_count": null,
      "_view_module": "@jupyter-widgets/controls",
      "_view_module_version": "1.5.0",
      "_view_name": "ProgressView",
      "bar_style": "success",
      "description": "",
      "description_tooltip": null,
      "layout": "IPY_MODEL_42e7a6a4032149e6a60a2b5ce69fe0b7",
      "max": 440449768,
      "min": 0,
      "orientation": "horizontal",
      "style": "IPY_MODEL_1d0f4636f883485ba277ba8fe28adfa9",
      "value": 440449768
     }
    },
    "6626ac6f78024a10b4b420308ab41126": {
     "model_module": "@jupyter-widgets/controls",
     "model_module_version": "1.5.0",
     "model_name": "ProgressStyleModel",
     "state": {
      "_model_module": "@jupyter-widgets/controls",
      "_model_module_version": "1.5.0",
      "_model_name": "ProgressStyleModel",
      "_view_count": null,
      "_view_module": "@jupyter-widgets/base",
      "_view_module_version": "1.2.0",
      "_view_name": "StyleView",
      "bar_color": null,
      "description_width": ""
     }
    },
    "66e2a8dfc9c646a6824816a923548d60": {
     "model_module": "@jupyter-widgets/controls",
     "model_module_version": "1.5.0",
     "model_name": "HTMLModel",
     "state": {
      "_dom_classes": [],
      "_model_module": "@jupyter-widgets/controls",
      "_model_module_version": "1.5.0",
      "_model_name": "HTMLModel",
      "_view_count": null,
      "_view_module": "@jupyter-widgets/controls",
      "_view_module_version": "1.5.0",
      "_view_name": "HTMLView",
      "description": "",
      "description_tooltip": null,
      "layout": "IPY_MODEL_4408059af597451183b5230a6f087eb0",
      "placeholder": "​",
      "style": "IPY_MODEL_d6438aff95f74a8a9382e65d1d94c885",
      "value": " 466k/466k [00:00&lt;00:00, 6.90MB/s]"
     }
    },
    "67f5a4cd088a4c20803e1a0db18655fd": {
     "model_module": "@jupyter-widgets/controls",
     "model_module_version": "1.5.0",
     "model_name": "FloatProgressModel",
     "state": {
      "_dom_classes": [],
      "_model_module": "@jupyter-widgets/controls",
      "_model_module_version": "1.5.0",
      "_model_name": "FloatProgressModel",
      "_view_count": null,
      "_view_module": "@jupyter-widgets/controls",
      "_view_module_version": "1.5.0",
      "_view_name": "ProgressView",
      "bar_style": "success",
      "description": "",
      "description_tooltip": null,
      "layout": "IPY_MODEL_67f875d103cd4bc5bca187ff8e1bb867",
      "max": 466062,
      "min": 0,
      "orientation": "horizontal",
      "style": "IPY_MODEL_45d925d5e8e441e0a4422c28559360b1",
      "value": 466062
     }
    },
    "67f875d103cd4bc5bca187ff8e1bb867": {
     "model_module": "@jupyter-widgets/base",
     "model_module_version": "1.2.0",
     "model_name": "LayoutModel",
     "state": {
      "_model_module": "@jupyter-widgets/base",
      "_model_module_version": "1.2.0",
      "_model_name": "LayoutModel",
      "_view_count": null,
      "_view_module": "@jupyter-widgets/base",
      "_view_module_version": "1.2.0",
      "_view_name": "LayoutView",
      "align_content": null,
      "align_items": null,
      "align_self": null,
      "border": null,
      "bottom": null,
      "display": null,
      "flex": null,
      "flex_flow": null,
      "grid_area": null,
      "grid_auto_columns": null,
      "grid_auto_flow": null,
      "grid_auto_rows": null,
      "grid_column": null,
      "grid_gap": null,
      "grid_row": null,
      "grid_template_areas": null,
      "grid_template_columns": null,
      "grid_template_rows": null,
      "height": null,
      "justify_content": null,
      "justify_items": null,
      "left": null,
      "margin": null,
      "max_height": null,
      "max_width": null,
      "min_height": null,
      "min_width": null,
      "object_fit": null,
      "object_position": null,
      "order": null,
      "overflow": null,
      "overflow_x": null,
      "overflow_y": null,
      "padding": null,
      "right": null,
      "top": null,
      "visibility": null,
      "width": null
     }
    },
    "69211de3edc14ff8a99b964ba894b9e0": {
     "model_module": "@jupyter-widgets/base",
     "model_module_version": "1.2.0",
     "model_name": "LayoutModel",
     "state": {
      "_model_module": "@jupyter-widgets/base",
      "_model_module_version": "1.2.0",
      "_model_name": "LayoutModel",
      "_view_count": null,
      "_view_module": "@jupyter-widgets/base",
      "_view_module_version": "1.2.0",
      "_view_name": "LayoutView",
      "align_content": null,
      "align_items": null,
      "align_self": null,
      "border": null,
      "bottom": null,
      "display": null,
      "flex": null,
      "flex_flow": null,
      "grid_area": null,
      "grid_auto_columns": null,
      "grid_auto_flow": null,
      "grid_auto_rows": null,
      "grid_column": null,
      "grid_gap": null,
      "grid_row": null,
      "grid_template_areas": null,
      "grid_template_columns": null,
      "grid_template_rows": null,
      "height": null,
      "justify_content": null,
      "justify_items": null,
      "left": null,
      "margin": null,
      "max_height": null,
      "max_width": null,
      "min_height": null,
      "min_width": null,
      "object_fit": null,
      "object_position": null,
      "order": null,
      "overflow": null,
      "overflow_x": null,
      "overflow_y": null,
      "padding": null,
      "right": null,
      "top": null,
      "visibility": null,
      "width": null
     }
    },
    "6934153fce0247869789e33511e1eb6a": {
     "model_module": "@jupyter-widgets/base",
     "model_module_version": "1.2.0",
     "model_name": "LayoutModel",
     "state": {
      "_model_module": "@jupyter-widgets/base",
      "_model_module_version": "1.2.0",
      "_model_name": "LayoutModel",
      "_view_count": null,
      "_view_module": "@jupyter-widgets/base",
      "_view_module_version": "1.2.0",
      "_view_name": "LayoutView",
      "align_content": null,
      "align_items": null,
      "align_self": null,
      "border": null,
      "bottom": null,
      "display": null,
      "flex": null,
      "flex_flow": null,
      "grid_area": null,
      "grid_auto_columns": null,
      "grid_auto_flow": null,
      "grid_auto_rows": null,
      "grid_column": null,
      "grid_gap": null,
      "grid_row": null,
      "grid_template_areas": null,
      "grid_template_columns": null,
      "grid_template_rows": null,
      "height": null,
      "justify_content": null,
      "justify_items": null,
      "left": null,
      "margin": null,
      "max_height": null,
      "max_width": null,
      "min_height": null,
      "min_width": null,
      "object_fit": null,
      "object_position": null,
      "order": null,
      "overflow": null,
      "overflow_x": null,
      "overflow_y": null,
      "padding": null,
      "right": null,
      "top": null,
      "visibility": null,
      "width": null
     }
    },
    "755c836140cb4a38a092ca4390cda3df": {
     "model_module": "@jupyter-widgets/controls",
     "model_module_version": "1.5.0",
     "model_name": "ProgressStyleModel",
     "state": {
      "_model_module": "@jupyter-widgets/controls",
      "_model_module_version": "1.5.0",
      "_model_name": "ProgressStyleModel",
      "_view_count": null,
      "_view_module": "@jupyter-widgets/base",
      "_view_module_version": "1.2.0",
      "_view_name": "StyleView",
      "bar_color": null,
      "description_width": ""
     }
    },
    "757e1be20a5f4fdc853f2ea693134141": {
     "model_module": "@jupyter-widgets/controls",
     "model_module_version": "1.5.0",
     "model_name": "HTMLModel",
     "state": {
      "_dom_classes": [],
      "_model_module": "@jupyter-widgets/controls",
      "_model_module_version": "1.5.0",
      "_model_name": "HTMLModel",
      "_view_count": null,
      "_view_module": "@jupyter-widgets/controls",
      "_view_module_version": "1.5.0",
      "_view_name": "HTMLView",
      "description": "",
      "description_tooltip": null,
      "layout": "IPY_MODEL_ecd023fbbad448d586e5064f642c50ba",
      "placeholder": "​",
      "style": "IPY_MODEL_0149e4eb92ff491b9f0f0c0be4cbd3f5",
      "value": "tokenizer_config.json: 100%"
     }
    },
    "76c6b296126d4267898a14b21d5efdc2": {
     "model_module": "@jupyter-widgets/base",
     "model_module_version": "1.2.0",
     "model_name": "LayoutModel",
     "state": {
      "_model_module": "@jupyter-widgets/base",
      "_model_module_version": "1.2.0",
      "_model_name": "LayoutModel",
      "_view_count": null,
      "_view_module": "@jupyter-widgets/base",
      "_view_module_version": "1.2.0",
      "_view_name": "LayoutView",
      "align_content": null,
      "align_items": null,
      "align_self": null,
      "border": null,
      "bottom": null,
      "display": null,
      "flex": null,
      "flex_flow": null,
      "grid_area": null,
      "grid_auto_columns": null,
      "grid_auto_flow": null,
      "grid_auto_rows": null,
      "grid_column": null,
      "grid_gap": null,
      "grid_row": null,
      "grid_template_areas": null,
      "grid_template_columns": null,
      "grid_template_rows": null,
      "height": null,
      "justify_content": null,
      "justify_items": null,
      "left": null,
      "margin": null,
      "max_height": null,
      "max_width": null,
      "min_height": null,
      "min_width": null,
      "object_fit": null,
      "object_position": null,
      "order": null,
      "overflow": null,
      "overflow_x": null,
      "overflow_y": null,
      "padding": null,
      "right": null,
      "top": null,
      "visibility": null,
      "width": null
     }
    },
    "7cd9269b59f34de18662ec2f19e1da54": {
     "model_module": "@jupyter-widgets/base",
     "model_module_version": "1.2.0",
     "model_name": "LayoutModel",
     "state": {
      "_model_module": "@jupyter-widgets/base",
      "_model_module_version": "1.2.0",
      "_model_name": "LayoutModel",
      "_view_count": null,
      "_view_module": "@jupyter-widgets/base",
      "_view_module_version": "1.2.0",
      "_view_name": "LayoutView",
      "align_content": null,
      "align_items": null,
      "align_self": null,
      "border": null,
      "bottom": null,
      "display": null,
      "flex": null,
      "flex_flow": null,
      "grid_area": null,
      "grid_auto_columns": null,
      "grid_auto_flow": null,
      "grid_auto_rows": null,
      "grid_column": null,
      "grid_gap": null,
      "grid_row": null,
      "grid_template_areas": null,
      "grid_template_columns": null,
      "grid_template_rows": null,
      "height": null,
      "justify_content": null,
      "justify_items": null,
      "left": null,
      "margin": null,
      "max_height": null,
      "max_width": null,
      "min_height": null,
      "min_width": null,
      "object_fit": null,
      "object_position": null,
      "order": null,
      "overflow": null,
      "overflow_x": null,
      "overflow_y": null,
      "padding": null,
      "right": null,
      "top": null,
      "visibility": null,
      "width": null
     }
    },
    "89b3379bb0c04905a6ab4fd8e713a97f": {
     "model_module": "@jupyter-widgets/controls",
     "model_module_version": "1.5.0",
     "model_name": "HBoxModel",
     "state": {
      "_dom_classes": [],
      "_model_module": "@jupyter-widgets/controls",
      "_model_module_version": "1.5.0",
      "_model_name": "HBoxModel",
      "_view_count": null,
      "_view_module": "@jupyter-widgets/controls",
      "_view_module_version": "1.5.0",
      "_view_name": "HBoxView",
      "box_style": "",
      "children": [
       "IPY_MODEL_609a3d982a5840bf9853183b24133b9a",
       "IPY_MODEL_60ca49789680492ebf7f0693ef55cff8",
       "IPY_MODEL_f0fd54d7f62b418c81f1dbc78c79b568"
      ],
      "layout": "IPY_MODEL_76c6b296126d4267898a14b21d5efdc2"
     }
    },
    "8b022ed73d024f9cb88fc60a608102ef": {
     "model_module": "@jupyter-widgets/controls",
     "model_module_version": "1.5.0",
     "model_name": "DescriptionStyleModel",
     "state": {
      "_model_module": "@jupyter-widgets/controls",
      "_model_module_version": "1.5.0",
      "_model_name": "DescriptionStyleModel",
      "_view_count": null,
      "_view_module": "@jupyter-widgets/base",
      "_view_module_version": "1.2.0",
      "_view_name": "StyleView",
      "description_width": ""
     }
    },
    "90be91f1ff2d4bf0ac336db68f121eb8": {
     "model_module": "@jupyter-widgets/controls",
     "model_module_version": "1.5.0",
     "model_name": "HTMLModel",
     "state": {
      "_dom_classes": [],
      "_model_module": "@jupyter-widgets/controls",
      "_model_module_version": "1.5.0",
      "_model_name": "HTMLModel",
      "_view_count": null,
      "_view_module": "@jupyter-widgets/controls",
      "_view_module_version": "1.5.0",
      "_view_name": "HTMLView",
      "description": "",
      "description_tooltip": null,
      "layout": "IPY_MODEL_c1416be4c2234209a6d199f9bc50b123",
      "placeholder": "​",
      "style": "IPY_MODEL_201f7ff8e15441dc8860114870efec30",
      "value": " 28.0/28.0 [00:00&lt;00:00, 811B/s]"
     }
    },
    "946d99f2c29a4347a300f6013497edb6": {
     "model_module": "@jupyter-widgets/controls",
     "model_module_version": "1.5.0",
     "model_name": "ProgressStyleModel",
     "state": {
      "_model_module": "@jupyter-widgets/controls",
      "_model_module_version": "1.5.0",
      "_model_name": "ProgressStyleModel",
      "_view_count": null,
      "_view_module": "@jupyter-widgets/base",
      "_view_module_version": "1.2.0",
      "_view_name": "StyleView",
      "bar_color": null,
      "description_width": ""
     }
    },
    "9cbcb502a5a8467ebd984fc614d44c80": {
     "model_module": "@jupyter-widgets/base",
     "model_module_version": "1.2.0",
     "model_name": "LayoutModel",
     "state": {
      "_model_module": "@jupyter-widgets/base",
      "_model_module_version": "1.2.0",
      "_model_name": "LayoutModel",
      "_view_count": null,
      "_view_module": "@jupyter-widgets/base",
      "_view_module_version": "1.2.0",
      "_view_name": "LayoutView",
      "align_content": null,
      "align_items": null,
      "align_self": null,
      "border": null,
      "bottom": null,
      "display": null,
      "flex": null,
      "flex_flow": null,
      "grid_area": null,
      "grid_auto_columns": null,
      "grid_auto_flow": null,
      "grid_auto_rows": null,
      "grid_column": null,
      "grid_gap": null,
      "grid_row": null,
      "grid_template_areas": null,
      "grid_template_columns": null,
      "grid_template_rows": null,
      "height": null,
      "justify_content": null,
      "justify_items": null,
      "left": null,
      "margin": null,
      "max_height": null,
      "max_width": null,
      "min_height": null,
      "min_width": null,
      "object_fit": null,
      "object_position": null,
      "order": null,
      "overflow": null,
      "overflow_x": null,
      "overflow_y": null,
      "padding": null,
      "right": null,
      "top": null,
      "visibility": null,
      "width": null
     }
    },
    "a4c12c58a86346479a0496d93deb0f24": {
     "model_module": "@jupyter-widgets/controls",
     "model_module_version": "1.5.0",
     "model_name": "HTMLModel",
     "state": {
      "_dom_classes": [],
      "_model_module": "@jupyter-widgets/controls",
      "_model_module_version": "1.5.0",
      "_model_name": "HTMLModel",
      "_view_count": null,
      "_view_module": "@jupyter-widgets/controls",
      "_view_module_version": "1.5.0",
      "_view_name": "HTMLView",
      "description": "",
      "description_tooltip": null,
      "layout": "IPY_MODEL_1b1502118e284d8fa1dd69d807aa09cc",
      "placeholder": "​",
      "style": "IPY_MODEL_be294392188946d58d79d5c4f4b8e763",
      "value": " 570/570 [00:00&lt;00:00, 16.9kB/s]"
     }
    },
    "a5378d3c840b482ead4be75dc0b2439d": {
     "model_module": "@jupyter-widgets/base",
     "model_module_version": "1.2.0",
     "model_name": "LayoutModel",
     "state": {
      "_model_module": "@jupyter-widgets/base",
      "_model_module_version": "1.2.0",
      "_model_name": "LayoutModel",
      "_view_count": null,
      "_view_module": "@jupyter-widgets/base",
      "_view_module_version": "1.2.0",
      "_view_name": "LayoutView",
      "align_content": null,
      "align_items": null,
      "align_self": null,
      "border": null,
      "bottom": null,
      "display": null,
      "flex": null,
      "flex_flow": null,
      "grid_area": null,
      "grid_auto_columns": null,
      "grid_auto_flow": null,
      "grid_auto_rows": null,
      "grid_column": null,
      "grid_gap": null,
      "grid_row": null,
      "grid_template_areas": null,
      "grid_template_columns": null,
      "grid_template_rows": null,
      "height": null,
      "justify_content": null,
      "justify_items": null,
      "left": null,
      "margin": null,
      "max_height": null,
      "max_width": null,
      "min_height": null,
      "min_width": null,
      "object_fit": null,
      "object_position": null,
      "order": null,
      "overflow": null,
      "overflow_x": null,
      "overflow_y": null,
      "padding": null,
      "right": null,
      "top": null,
      "visibility": null,
      "width": null
     }
    },
    "a541346e5c694ee183049fceb81329b2": {
     "model_module": "@jupyter-widgets/controls",
     "model_module_version": "1.5.0",
     "model_name": "HBoxModel",
     "state": {
      "_dom_classes": [],
      "_model_module": "@jupyter-widgets/controls",
      "_model_module_version": "1.5.0",
      "_model_name": "HBoxModel",
      "_view_count": null,
      "_view_module": "@jupyter-widgets/controls",
      "_view_module_version": "1.5.0",
      "_view_name": "HBoxView",
      "box_style": "",
      "children": [
       "IPY_MODEL_757e1be20a5f4fdc853f2ea693134141",
       "IPY_MODEL_0e4cf94228544d85b6cfdcc97089eeff",
       "IPY_MODEL_90be91f1ff2d4bf0ac336db68f121eb8"
      ],
      "layout": "IPY_MODEL_04486af8e7494f33942cf4a29376f281"
     }
    },
    "ac8cd7dd7d95414e862bb6fd395aa728": {
     "model_module": "@jupyter-widgets/controls",
     "model_module_version": "1.5.0",
     "model_name": "FloatProgressModel",
     "state": {
      "_dom_classes": [],
      "_model_module": "@jupyter-widgets/controls",
      "_model_module_version": "1.5.0",
      "_model_name": "FloatProgressModel",
      "_view_count": null,
      "_view_module": "@jupyter-widgets/controls",
      "_view_module_version": "1.5.0",
      "_view_name": "ProgressView",
      "bar_style": "success",
      "description": "",
      "description_tooltip": null,
      "layout": "IPY_MODEL_69211de3edc14ff8a99b964ba894b9e0",
      "max": 231508,
      "min": 0,
      "orientation": "horizontal",
      "style": "IPY_MODEL_946d99f2c29a4347a300f6013497edb6",
      "value": 231508
     }
    },
    "be294392188946d58d79d5c4f4b8e763": {
     "model_module": "@jupyter-widgets/controls",
     "model_module_version": "1.5.0",
     "model_name": "DescriptionStyleModel",
     "state": {
      "_model_module": "@jupyter-widgets/controls",
      "_model_module_version": "1.5.0",
      "_model_name": "DescriptionStyleModel",
      "_view_count": null,
      "_view_module": "@jupyter-widgets/base",
      "_view_module_version": "1.2.0",
      "_view_name": "StyleView",
      "description_width": ""
     }
    },
    "c1416be4c2234209a6d199f9bc50b123": {
     "model_module": "@jupyter-widgets/base",
     "model_module_version": "1.2.0",
     "model_name": "LayoutModel",
     "state": {
      "_model_module": "@jupyter-widgets/base",
      "_model_module_version": "1.2.0",
      "_model_name": "LayoutModel",
      "_view_count": null,
      "_view_module": "@jupyter-widgets/base",
      "_view_module_version": "1.2.0",
      "_view_name": "LayoutView",
      "align_content": null,
      "align_items": null,
      "align_self": null,
      "border": null,
      "bottom": null,
      "display": null,
      "flex": null,
      "flex_flow": null,
      "grid_area": null,
      "grid_auto_columns": null,
      "grid_auto_flow": null,
      "grid_auto_rows": null,
      "grid_column": null,
      "grid_gap": null,
      "grid_row": null,
      "grid_template_areas": null,
      "grid_template_columns": null,
      "grid_template_rows": null,
      "height": null,
      "justify_content": null,
      "justify_items": null,
      "left": null,
      "margin": null,
      "max_height": null,
      "max_width": null,
      "min_height": null,
      "min_width": null,
      "object_fit": null,
      "object_position": null,
      "order": null,
      "overflow": null,
      "overflow_x": null,
      "overflow_y": null,
      "padding": null,
      "right": null,
      "top": null,
      "visibility": null,
      "width": null
     }
    },
    "c36e2c608aac4d419af750539d9a0311": {
     "model_module": "@jupyter-widgets/base",
     "model_module_version": "1.2.0",
     "model_name": "LayoutModel",
     "state": {
      "_model_module": "@jupyter-widgets/base",
      "_model_module_version": "1.2.0",
      "_model_name": "LayoutModel",
      "_view_count": null,
      "_view_module": "@jupyter-widgets/base",
      "_view_module_version": "1.2.0",
      "_view_name": "LayoutView",
      "align_content": null,
      "align_items": null,
      "align_self": null,
      "border": null,
      "bottom": null,
      "display": null,
      "flex": null,
      "flex_flow": null,
      "grid_area": null,
      "grid_auto_columns": null,
      "grid_auto_flow": null,
      "grid_auto_rows": null,
      "grid_column": null,
      "grid_gap": null,
      "grid_row": null,
      "grid_template_areas": null,
      "grid_template_columns": null,
      "grid_template_rows": null,
      "height": null,
      "justify_content": null,
      "justify_items": null,
      "left": null,
      "margin": null,
      "max_height": null,
      "max_width": null,
      "min_height": null,
      "min_width": null,
      "object_fit": null,
      "object_position": null,
      "order": null,
      "overflow": null,
      "overflow_x": null,
      "overflow_y": null,
      "padding": null,
      "right": null,
      "top": null,
      "visibility": null,
      "width": null
     }
    },
    "c777488975d6480cb8e9e947896c0539": {
     "model_module": "@jupyter-widgets/base",
     "model_module_version": "1.2.0",
     "model_name": "LayoutModel",
     "state": {
      "_model_module": "@jupyter-widgets/base",
      "_model_module_version": "1.2.0",
      "_model_name": "LayoutModel",
      "_view_count": null,
      "_view_module": "@jupyter-widgets/base",
      "_view_module_version": "1.2.0",
      "_view_name": "LayoutView",
      "align_content": null,
      "align_items": null,
      "align_self": null,
      "border": null,
      "bottom": null,
      "display": null,
      "flex": null,
      "flex_flow": null,
      "grid_area": null,
      "grid_auto_columns": null,
      "grid_auto_flow": null,
      "grid_auto_rows": null,
      "grid_column": null,
      "grid_gap": null,
      "grid_row": null,
      "grid_template_areas": null,
      "grid_template_columns": null,
      "grid_template_rows": null,
      "height": null,
      "justify_content": null,
      "justify_items": null,
      "left": null,
      "margin": null,
      "max_height": null,
      "max_width": null,
      "min_height": null,
      "min_width": null,
      "object_fit": null,
      "object_position": null,
      "order": null,
      "overflow": null,
      "overflow_x": null,
      "overflow_y": null,
      "padding": null,
      "right": null,
      "top": null,
      "visibility": null,
      "width": null
     }
    },
    "c7d502a1ea244db492506cb91d5b1378": {
     "model_module": "@jupyter-widgets/base",
     "model_module_version": "1.2.0",
     "model_name": "LayoutModel",
     "state": {
      "_model_module": "@jupyter-widgets/base",
      "_model_module_version": "1.2.0",
      "_model_name": "LayoutModel",
      "_view_count": null,
      "_view_module": "@jupyter-widgets/base",
      "_view_module_version": "1.2.0",
      "_view_name": "LayoutView",
      "align_content": null,
      "align_items": null,
      "align_self": null,
      "border": null,
      "bottom": null,
      "display": null,
      "flex": null,
      "flex_flow": null,
      "grid_area": null,
      "grid_auto_columns": null,
      "grid_auto_flow": null,
      "grid_auto_rows": null,
      "grid_column": null,
      "grid_gap": null,
      "grid_row": null,
      "grid_template_areas": null,
      "grid_template_columns": null,
      "grid_template_rows": null,
      "height": null,
      "justify_content": null,
      "justify_items": null,
      "left": null,
      "margin": null,
      "max_height": null,
      "max_width": null,
      "min_height": null,
      "min_width": null,
      "object_fit": null,
      "object_position": null,
      "order": null,
      "overflow": null,
      "overflow_x": null,
      "overflow_y": null,
      "padding": null,
      "right": null,
      "top": null,
      "visibility": null,
      "width": null
     }
    },
    "ccf85d4011dd4d9abbc106a1cb8fa092": {
     "model_module": "@jupyter-widgets/base",
     "model_module_version": "1.2.0",
     "model_name": "LayoutModel",
     "state": {
      "_model_module": "@jupyter-widgets/base",
      "_model_module_version": "1.2.0",
      "_model_name": "LayoutModel",
      "_view_count": null,
      "_view_module": "@jupyter-widgets/base",
      "_view_module_version": "1.2.0",
      "_view_name": "LayoutView",
      "align_content": null,
      "align_items": null,
      "align_self": null,
      "border": null,
      "bottom": null,
      "display": null,
      "flex": null,
      "flex_flow": null,
      "grid_area": null,
      "grid_auto_columns": null,
      "grid_auto_flow": null,
      "grid_auto_rows": null,
      "grid_column": null,
      "grid_gap": null,
      "grid_row": null,
      "grid_template_areas": null,
      "grid_template_columns": null,
      "grid_template_rows": null,
      "height": null,
      "justify_content": null,
      "justify_items": null,
      "left": null,
      "margin": null,
      "max_height": null,
      "max_width": null,
      "min_height": null,
      "min_width": null,
      "object_fit": null,
      "object_position": null,
      "order": null,
      "overflow": null,
      "overflow_x": null,
      "overflow_y": null,
      "padding": null,
      "right": null,
      "top": null,
      "visibility": null,
      "width": null
     }
    },
    "d6438aff95f74a8a9382e65d1d94c885": {
     "model_module": "@jupyter-widgets/controls",
     "model_module_version": "1.5.0",
     "model_name": "DescriptionStyleModel",
     "state": {
      "_model_module": "@jupyter-widgets/controls",
      "_model_module_version": "1.5.0",
      "_model_name": "DescriptionStyleModel",
      "_view_count": null,
      "_view_module": "@jupyter-widgets/base",
      "_view_module_version": "1.2.0",
      "_view_name": "StyleView",
      "description_width": ""
     }
    },
    "e88d6b2236a64ab990b90cda590baae1": {
     "model_module": "@jupyter-widgets/base",
     "model_module_version": "1.2.0",
     "model_name": "LayoutModel",
     "state": {
      "_model_module": "@jupyter-widgets/base",
      "_model_module_version": "1.2.0",
      "_model_name": "LayoutModel",
      "_view_count": null,
      "_view_module": "@jupyter-widgets/base",
      "_view_module_version": "1.2.0",
      "_view_name": "LayoutView",
      "align_content": null,
      "align_items": null,
      "align_self": null,
      "border": null,
      "bottom": null,
      "display": null,
      "flex": null,
      "flex_flow": null,
      "grid_area": null,
      "grid_auto_columns": null,
      "grid_auto_flow": null,
      "grid_auto_rows": null,
      "grid_column": null,
      "grid_gap": null,
      "grid_row": null,
      "grid_template_areas": null,
      "grid_template_columns": null,
      "grid_template_rows": null,
      "height": null,
      "justify_content": null,
      "justify_items": null,
      "left": null,
      "margin": null,
      "max_height": null,
      "max_width": null,
      "min_height": null,
      "min_width": null,
      "object_fit": null,
      "object_position": null,
      "order": null,
      "overflow": null,
      "overflow_x": null,
      "overflow_y": null,
      "padding": null,
      "right": null,
      "top": null,
      "visibility": null,
      "width": null
     }
    },
    "ecd023fbbad448d586e5064f642c50ba": {
     "model_module": "@jupyter-widgets/base",
     "model_module_version": "1.2.0",
     "model_name": "LayoutModel",
     "state": {
      "_model_module": "@jupyter-widgets/base",
      "_model_module_version": "1.2.0",
      "_model_name": "LayoutModel",
      "_view_count": null,
      "_view_module": "@jupyter-widgets/base",
      "_view_module_version": "1.2.0",
      "_view_name": "LayoutView",
      "align_content": null,
      "align_items": null,
      "align_self": null,
      "border": null,
      "bottom": null,
      "display": null,
      "flex": null,
      "flex_flow": null,
      "grid_area": null,
      "grid_auto_columns": null,
      "grid_auto_flow": null,
      "grid_auto_rows": null,
      "grid_column": null,
      "grid_gap": null,
      "grid_row": null,
      "grid_template_areas": null,
      "grid_template_columns": null,
      "grid_template_rows": null,
      "height": null,
      "justify_content": null,
      "justify_items": null,
      "left": null,
      "margin": null,
      "max_height": null,
      "max_width": null,
      "min_height": null,
      "min_width": null,
      "object_fit": null,
      "object_position": null,
      "order": null,
      "overflow": null,
      "overflow_x": null,
      "overflow_y": null,
      "padding": null,
      "right": null,
      "top": null,
      "visibility": null,
      "width": null
     }
    },
    "f0fd54d7f62b418c81f1dbc78c79b568": {
     "model_module": "@jupyter-widgets/controls",
     "model_module_version": "1.5.0",
     "model_name": "HTMLModel",
     "state": {
      "_dom_classes": [],
      "_model_module": "@jupyter-widgets/controls",
      "_model_module_version": "1.5.0",
      "_model_name": "HTMLModel",
      "_view_count": null,
      "_view_module": "@jupyter-widgets/controls",
      "_view_module_version": "1.5.0",
      "_view_name": "HTMLView",
      "description": "",
      "description_tooltip": null,
      "layout": "IPY_MODEL_7cd9269b59f34de18662ec2f19e1da54",
      "placeholder": "​",
      "style": "IPY_MODEL_061c3da766e74b10897d640287a417d5",
      "value": " 440M/440M [00:07&lt;00:00, 53.7MB/s]"
     }
    },
    "f2c3bf0327b84df2b7e9298d1e68a0dd": {
     "model_module": "@jupyter-widgets/controls",
     "model_module_version": "1.5.0",
     "model_name": "HTMLModel",
     "state": {
      "_dom_classes": [],
      "_model_module": "@jupyter-widgets/controls",
      "_model_module_version": "1.5.0",
      "_model_name": "HTMLModel",
      "_view_count": null,
      "_view_module": "@jupyter-widgets/controls",
      "_view_module_version": "1.5.0",
      "_view_name": "HTMLView",
      "description": "",
      "description_tooltip": null,
      "layout": "IPY_MODEL_c7d502a1ea244db492506cb91d5b1378",
      "placeholder": "​",
      "style": "IPY_MODEL_09aad9c915874f6fa25f7f74ab29af8d",
      "value": "vocab.txt: 100%"
     }
    },
    "fbf61b198316406c9d68565e15ddc8e9": {
     "model_module": "@jupyter-widgets/controls",
     "model_module_version": "1.5.0",
     "model_name": "HBoxModel",
     "state": {
      "_dom_classes": [],
      "_model_module": "@jupyter-widgets/controls",
      "_model_module_version": "1.5.0",
      "_model_name": "HBoxModel",
      "_view_count": null,
      "_view_module": "@jupyter-widgets/controls",
      "_view_module_version": "1.5.0",
      "_view_name": "HBoxView",
      "box_style": "",
      "children": [
       "IPY_MODEL_21c5f85b410e402985ac5ac655361371",
       "IPY_MODEL_188df505b20b42edacdb2bf7f3da1314",
       "IPY_MODEL_a4c12c58a86346479a0496d93deb0f24"
      ],
      "layout": "IPY_MODEL_6934153fce0247869789e33511e1eb6a"
     }
    }
   }
  }
 },
 "nbformat": 4,
 "nbformat_minor": 1
}
